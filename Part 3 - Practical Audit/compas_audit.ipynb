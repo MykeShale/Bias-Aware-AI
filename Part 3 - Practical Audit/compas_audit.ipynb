{
  "nbformat": 4,
  "nbformat_minor": 0,
  "metadata": {
    "colab": {
      "provenance": []
    },
    "kernelspec": {
      "name": "python3",
      "display_name": "Python 3"
    },
    "language_info": {
      "name": "python"
    }
  },
  "cells": [
    {
      "cell_type": "code",
      "execution_count": null,
      "metadata": {
        "id": "cvKOD1uCLQ9Q"
      },
      "outputs": [],
      "source": []
    },
    {
      "cell_type": "markdown",
      "metadata": {
        "id": "ab885717"
      },
      "source": [
        "# Task\n",
        "Use Python and the AI Fairness 360 toolkit to audit the \"compas.db\" SQLite database for racial bias in COMPAS risk scores. Generate visualizations to illustrate disparities, such as in false positive rates. Finally, write a 300-word report summarizing your findings and proposing remediation steps."
      ]
    },
    {
      "cell_type": "markdown",
      "metadata": {
        "id": "55060dd3"
      },
      "source": [
        "## Install ai fairness 360\n",
        "\n",
        "### Subtask:\n",
        "Install the `aif360` library.\n"
      ]
    },
    {
      "cell_type": "markdown",
      "metadata": {
        "id": "c7a6a8ad"
      },
      "source": [
        "**Reasoning**:\n",
        "The first step is to install the necessary library, `aif360`, as instructed.\n",
        "\n"
      ]
    },
    {
      "cell_type": "code",
      "metadata": {
        "colab": {
          "base_uri": "https://localhost:8080/"
        },
        "id": "a75ada2c",
        "outputId": "1d3a3785-ef9c-4967-e5f9-8e61d16658fa"
      },
      "source": [
        "!pip install aif360"
      ],
      "execution_count": 1,
      "outputs": [
        {
          "output_type": "stream",
          "name": "stdout",
          "text": [
            "Collecting aif360\n",
            "  Downloading aif360-0.6.1-py3-none-any.whl.metadata (5.0 kB)\n",
            "Requirement already satisfied: numpy>=1.16 in /usr/local/lib/python3.11/dist-packages (from aif360) (2.0.2)\n",
            "Requirement already satisfied: scipy>=1.2.0 in /usr/local/lib/python3.11/dist-packages (from aif360) (1.16.0)\n",
            "Requirement already satisfied: pandas>=0.24.0 in /usr/local/lib/python3.11/dist-packages (from aif360) (2.2.2)\n",
            "Requirement already satisfied: scikit-learn>=1.0 in /usr/local/lib/python3.11/dist-packages (from aif360) (1.6.1)\n",
            "Requirement already satisfied: matplotlib in /usr/local/lib/python3.11/dist-packages (from aif360) (3.10.0)\n",
            "Requirement already satisfied: python-dateutil>=2.8.2 in /usr/local/lib/python3.11/dist-packages (from pandas>=0.24.0->aif360) (2.9.0.post0)\n",
            "Requirement already satisfied: pytz>=2020.1 in /usr/local/lib/python3.11/dist-packages (from pandas>=0.24.0->aif360) (2025.2)\n",
            "Requirement already satisfied: tzdata>=2022.7 in /usr/local/lib/python3.11/dist-packages (from pandas>=0.24.0->aif360) (2025.2)\n",
            "Requirement already satisfied: joblib>=1.2.0 in /usr/local/lib/python3.11/dist-packages (from scikit-learn>=1.0->aif360) (1.5.1)\n",
            "Requirement already satisfied: threadpoolctl>=3.1.0 in /usr/local/lib/python3.11/dist-packages (from scikit-learn>=1.0->aif360) (3.6.0)\n",
            "Requirement already satisfied: contourpy>=1.0.1 in /usr/local/lib/python3.11/dist-packages (from matplotlib->aif360) (1.3.2)\n",
            "Requirement already satisfied: cycler>=0.10 in /usr/local/lib/python3.11/dist-packages (from matplotlib->aif360) (0.12.1)\n",
            "Requirement already satisfied: fonttools>=4.22.0 in /usr/local/lib/python3.11/dist-packages (from matplotlib->aif360) (4.59.0)\n",
            "Requirement already satisfied: kiwisolver>=1.3.1 in /usr/local/lib/python3.11/dist-packages (from matplotlib->aif360) (1.4.8)\n",
            "Requirement already satisfied: packaging>=20.0 in /usr/local/lib/python3.11/dist-packages (from matplotlib->aif360) (25.0)\n",
            "Requirement already satisfied: pillow>=8 in /usr/local/lib/python3.11/dist-packages (from matplotlib->aif360) (11.3.0)\n",
            "Requirement already satisfied: pyparsing>=2.3.1 in /usr/local/lib/python3.11/dist-packages (from matplotlib->aif360) (3.2.3)\n",
            "Requirement already satisfied: six>=1.5 in /usr/local/lib/python3.11/dist-packages (from python-dateutil>=2.8.2->pandas>=0.24.0->aif360) (1.17.0)\n",
            "Downloading aif360-0.6.1-py3-none-any.whl (259 kB)\n",
            "\u001b[2K   \u001b[90m━━━━━━━━━━━━━━━━━━━━━━━━━━━━━━━━━━━━━━━━\u001b[0m \u001b[32m259.7/259.7 kB\u001b[0m \u001b[31m4.0 MB/s\u001b[0m eta \u001b[36m0:00:00\u001b[0m\n",
            "\u001b[?25hInstalling collected packages: aif360\n",
            "Successfully installed aif360-0.6.1\n"
          ]
        }
      ]
    },
    {
      "cell_type": "markdown",
      "metadata": {
        "id": "2d229991"
      },
      "source": [
        "## Load the data\n",
        "\n",
        "### Subtask:\n",
        "Load the COMPAS dataset from the \"compas.db\" SQLite database.\n"
      ]
    },
    {
      "cell_type": "markdown",
      "metadata": {
        "id": "f7e04660"
      },
      "source": [
        "**Reasoning**:\n",
        "Load the data from the SQLite database into a pandas DataFrame.\n",
        "\n"
      ]
    },
    {
      "cell_type": "code",
      "metadata": {
        "colab": {
          "base_uri": "https://localhost:8080/",
          "height": 401
        },
        "id": "234795c2",
        "outputId": "94e29a7e-9dab-45be-c5e8-1112f6eb39fb"
      },
      "source": [
        "import sqlite3\n",
        "import pandas as pd\n",
        "\n",
        "# Establish a connection to the database\n",
        "conn = sqlite3.connect('compas.db')\n",
        "\n",
        "# Write a SQL query to select all data from the people table\n",
        "query = \"SELECT * FROM people\"\n",
        "\n",
        "# Use pandas to execute the query and load the data into a DataFrame\n",
        "df = pd.read_sql_query(query, conn)\n",
        "\n",
        "# Close the database connection\n",
        "conn.close()\n",
        "\n",
        "# Display the first few rows of the DataFrame\n",
        "display(df.head())"
      ],
      "execution_count": 2,
      "outputs": [
        {
          "output_type": "error",
          "ename": "DatabaseError",
          "evalue": "Execution failed on sql 'SELECT * FROM people': no such table: people",
          "traceback": [
            "\u001b[0;31m---------------------------------------------------------------------------\u001b[0m",
            "\u001b[0;31mOperationalError\u001b[0m                          Traceback (most recent call last)",
            "\u001b[0;32m/usr/local/lib/python3.11/dist-packages/pandas/io/sql.py\u001b[0m in \u001b[0;36mexecute\u001b[0;34m(self, sql, params)\u001b[0m\n\u001b[1;32m   2673\u001b[0m         \u001b[0;32mtry\u001b[0m\u001b[0;34m:\u001b[0m\u001b[0;34m\u001b[0m\u001b[0;34m\u001b[0m\u001b[0m\n\u001b[0;32m-> 2674\u001b[0;31m             \u001b[0mcur\u001b[0m\u001b[0;34m.\u001b[0m\u001b[0mexecute\u001b[0m\u001b[0;34m(\u001b[0m\u001b[0msql\u001b[0m\u001b[0;34m,\u001b[0m \u001b[0;34m*\u001b[0m\u001b[0margs\u001b[0m\u001b[0;34m)\u001b[0m\u001b[0;34m\u001b[0m\u001b[0;34m\u001b[0m\u001b[0m\n\u001b[0m\u001b[1;32m   2675\u001b[0m             \u001b[0;32mreturn\u001b[0m \u001b[0mcur\u001b[0m\u001b[0;34m\u001b[0m\u001b[0;34m\u001b[0m\u001b[0m\n",
            "\u001b[0;31mOperationalError\u001b[0m: no such table: people",
            "\nThe above exception was the direct cause of the following exception:\n",
            "\u001b[0;31mDatabaseError\u001b[0m                             Traceback (most recent call last)",
            "\u001b[0;32m/tmp/ipython-input-2828705852.py\u001b[0m in \u001b[0;36m<cell line: 0>\u001b[0;34m()\u001b[0m\n\u001b[1;32m      9\u001b[0m \u001b[0;34m\u001b[0m\u001b[0m\n\u001b[1;32m     10\u001b[0m \u001b[0;31m# Use pandas to execute the query and load the data into a DataFrame\u001b[0m\u001b[0;34m\u001b[0m\u001b[0;34m\u001b[0m\u001b[0m\n\u001b[0;32m---> 11\u001b[0;31m \u001b[0mdf\u001b[0m \u001b[0;34m=\u001b[0m \u001b[0mpd\u001b[0m\u001b[0;34m.\u001b[0m\u001b[0mread_sql_query\u001b[0m\u001b[0;34m(\u001b[0m\u001b[0mquery\u001b[0m\u001b[0;34m,\u001b[0m \u001b[0mconn\u001b[0m\u001b[0;34m)\u001b[0m\u001b[0;34m\u001b[0m\u001b[0;34m\u001b[0m\u001b[0m\n\u001b[0m\u001b[1;32m     12\u001b[0m \u001b[0;34m\u001b[0m\u001b[0m\n\u001b[1;32m     13\u001b[0m \u001b[0;31m# Close the database connection\u001b[0m\u001b[0;34m\u001b[0m\u001b[0;34m\u001b[0m\u001b[0m\n",
            "\u001b[0;32m/usr/local/lib/python3.11/dist-packages/pandas/io/sql.py\u001b[0m in \u001b[0;36mread_sql_query\u001b[0;34m(sql, con, index_col, coerce_float, params, parse_dates, chunksize, dtype, dtype_backend)\u001b[0m\n\u001b[1;32m    524\u001b[0m \u001b[0;34m\u001b[0m\u001b[0m\n\u001b[1;32m    525\u001b[0m     \u001b[0;32mwith\u001b[0m \u001b[0mpandasSQL_builder\u001b[0m\u001b[0;34m(\u001b[0m\u001b[0mcon\u001b[0m\u001b[0;34m)\u001b[0m \u001b[0;32mas\u001b[0m \u001b[0mpandas_sql\u001b[0m\u001b[0;34m:\u001b[0m\u001b[0;34m\u001b[0m\u001b[0;34m\u001b[0m\u001b[0m\n\u001b[0;32m--> 526\u001b[0;31m         return pandas_sql.read_query(\n\u001b[0m\u001b[1;32m    527\u001b[0m             \u001b[0msql\u001b[0m\u001b[0;34m,\u001b[0m\u001b[0;34m\u001b[0m\u001b[0;34m\u001b[0m\u001b[0m\n\u001b[1;32m    528\u001b[0m             \u001b[0mindex_col\u001b[0m\u001b[0;34m=\u001b[0m\u001b[0mindex_col\u001b[0m\u001b[0;34m,\u001b[0m\u001b[0;34m\u001b[0m\u001b[0;34m\u001b[0m\u001b[0m\n",
            "\u001b[0;32m/usr/local/lib/python3.11/dist-packages/pandas/io/sql.py\u001b[0m in \u001b[0;36mread_query\u001b[0;34m(self, sql, index_col, coerce_float, parse_dates, params, chunksize, dtype, dtype_backend)\u001b[0m\n\u001b[1;32m   2736\u001b[0m         \u001b[0mdtype_backend\u001b[0m\u001b[0;34m:\u001b[0m \u001b[0mDtypeBackend\u001b[0m \u001b[0;34m|\u001b[0m \u001b[0mLiteral\u001b[0m\u001b[0;34m[\u001b[0m\u001b[0;34m\"numpy\"\u001b[0m\u001b[0;34m]\u001b[0m \u001b[0;34m=\u001b[0m \u001b[0;34m\"numpy\"\u001b[0m\u001b[0;34m,\u001b[0m\u001b[0;34m\u001b[0m\u001b[0;34m\u001b[0m\u001b[0m\n\u001b[1;32m   2737\u001b[0m     ) -> DataFrame | Iterator[DataFrame]:\n\u001b[0;32m-> 2738\u001b[0;31m         \u001b[0mcursor\u001b[0m \u001b[0;34m=\u001b[0m \u001b[0mself\u001b[0m\u001b[0;34m.\u001b[0m\u001b[0mexecute\u001b[0m\u001b[0;34m(\u001b[0m\u001b[0msql\u001b[0m\u001b[0;34m,\u001b[0m \u001b[0mparams\u001b[0m\u001b[0;34m)\u001b[0m\u001b[0;34m\u001b[0m\u001b[0;34m\u001b[0m\u001b[0m\n\u001b[0m\u001b[1;32m   2739\u001b[0m         \u001b[0mcolumns\u001b[0m \u001b[0;34m=\u001b[0m \u001b[0;34m[\u001b[0m\u001b[0mcol_desc\u001b[0m\u001b[0;34m[\u001b[0m\u001b[0;36m0\u001b[0m\u001b[0;34m]\u001b[0m \u001b[0;32mfor\u001b[0m \u001b[0mcol_desc\u001b[0m \u001b[0;32min\u001b[0m \u001b[0mcursor\u001b[0m\u001b[0;34m.\u001b[0m\u001b[0mdescription\u001b[0m\u001b[0;34m]\u001b[0m\u001b[0;34m\u001b[0m\u001b[0;34m\u001b[0m\u001b[0m\n\u001b[1;32m   2740\u001b[0m \u001b[0;34m\u001b[0m\u001b[0m\n",
            "\u001b[0;32m/usr/local/lib/python3.11/dist-packages/pandas/io/sql.py\u001b[0m in \u001b[0;36mexecute\u001b[0;34m(self, sql, params)\u001b[0m\n\u001b[1;32m   2684\u001b[0m \u001b[0;34m\u001b[0m\u001b[0m\n\u001b[1;32m   2685\u001b[0m             \u001b[0mex\u001b[0m \u001b[0;34m=\u001b[0m \u001b[0mDatabaseError\u001b[0m\u001b[0;34m(\u001b[0m\u001b[0;34mf\"Execution failed on sql '{sql}': {exc}\"\u001b[0m\u001b[0;34m)\u001b[0m\u001b[0;34m\u001b[0m\u001b[0;34m\u001b[0m\u001b[0m\n\u001b[0;32m-> 2686\u001b[0;31m             \u001b[0;32mraise\u001b[0m \u001b[0mex\u001b[0m \u001b[0;32mfrom\u001b[0m \u001b[0mexc\u001b[0m\u001b[0;34m\u001b[0m\u001b[0;34m\u001b[0m\u001b[0m\n\u001b[0m\u001b[1;32m   2687\u001b[0m \u001b[0;34m\u001b[0m\u001b[0m\n\u001b[1;32m   2688\u001b[0m     \u001b[0;34m@\u001b[0m\u001b[0mstaticmethod\u001b[0m\u001b[0;34m\u001b[0m\u001b[0;34m\u001b[0m\u001b[0m\n",
            "\u001b[0;31mDatabaseError\u001b[0m: Execution failed on sql 'SELECT * FROM people': no such table: people"
          ]
        }
      ]
    },
    {
      "cell_type": "markdown",
      "metadata": {
        "id": "7ad313e5"
      },
      "source": [
        "**Reasoning**:\n",
        "The previous attempt failed because the table `people` does not exist. I need to first inspect the database to find the correct table name. I will list all tables in the database and then use the correct table name to load the data.\n",
        "\n"
      ]
    },
    {
      "cell_type": "code",
      "metadata": {
        "colab": {
          "base_uri": "https://localhost:8080/"
        },
        "id": "37wGojZzMJkp",
        "outputId": "3f5924ee-4b2d-402e-e6b6-ab07cc7438d2"
      },
      "source": [
        "import sqlite3\n",
        "import pandas as pd\n",
        "\n",
        "# Establish a connection to the database\n",
        "conn = sqlite3.connect('compas.db')\n",
        "\n",
        "# Get the list of tables\n",
        "cursor = conn.cursor()\n",
        "cursor.execute(\"SELECT name FROM sqlite_master WHERE type='table';\")\n",
        "tables = cursor.fetchall()\n",
        "print(f\"Tables in the database: {tables}\")\n",
        "\n",
        "# Assuming the table name is 'compas' based on the file name.\n",
        "# If not, I will adjust after seeing the output of the print statement.\n",
        "# For now, let's try with 'compas' as the table name.\n",
        "query = \"SELECT * FROM compas\"\n",
        "\n",
        "try:\n",
        "    # Use pandas to execute the query and load the data into a DataFrame\n",
        "    df = pd.read_sql_query(query, conn)\n",
        "    display(df.head())\n",
        "except Exception as e:\n",
        "    print(e)\n",
        "    # If the table name is still wrong, I will get another error.\n",
        "    # In that case, I will use the correct table name from the printed list.\n",
        "    if tables:\n",
        "        correct_table_name = tables[0][0]\n",
        "        print(f\"Trying with table name: {correct_table_name}\")\n",
        "        query = f\"SELECT * FROM {correct_table_name}\"\n",
        "        df = pd.read_sql_query(query, conn)\n",
        "        display(df.head())\n",
        "\n",
        "# Close the database connection\n",
        "conn.close()"
      ],
      "execution_count": 3,
      "outputs": [
        {
          "output_type": "stream",
          "name": "stdout",
          "text": [
            "Tables in the database: []\n",
            "Execution failed on sql 'SELECT * FROM compas': no such table: compas\n"
          ]
        }
      ]
    },
    {
      "cell_type": "markdown",
      "metadata": {
        "id": "cc08dfb8"
      },
      "source": [
        "**Reasoning**:\n",
        "The database seems to be empty or the file is not a valid SQLite database. Since the user wants to load data from \"compas.db\" and the previous attempts to read from it failed because there are no tables, I will try to see if the file exists and is a valid database file. It's possible the file is corrupted or not a database file at all. I'll use the `os` module to check if the file exists. If it does, I'll try to connect and re-check for tables. If it doesn't, I'll report the failure. Since the file is expected to be in the current directory, I will check the current working directory.\n",
        "\n"
      ]
    },
    {
      "cell_type": "code",
      "metadata": {
        "colab": {
          "base_uri": "https://localhost:8080/"
        },
        "id": "52685d42",
        "outputId": "85b453f6-0e4e-4489-b818-34d117b308b0"
      },
      "source": [
        "import os\n",
        "import sqlite3\n",
        "import pandas as pd\n",
        "\n",
        "db_file = 'compas.db'\n",
        "\n",
        "if os.path.exists(db_file):\n",
        "    print(f\"'{db_file}' exists.\")\n",
        "    try:\n",
        "        conn = sqlite3.connect(db_file)\n",
        "        cursor = conn.cursor()\n",
        "        cursor.execute(\"SELECT name FROM sqlite_master WHERE type='table';\")\n",
        "        tables = cursor.fetchall()\n",
        "        print(f\"Tables in the database: {tables}\")\n",
        "        if not tables:\n",
        "            print(\"The database is empty.\")\n",
        "        conn.close()\n",
        "    except sqlite3.DatabaseError as e:\n",
        "        print(f\"Error connecting to or reading from the database: {e}\")\n",
        "else:\n",
        "    print(f\"'{db_file}' does not exist in the current directory.\")\n"
      ],
      "execution_count": 4,
      "outputs": [
        {
          "output_type": "stream",
          "name": "stdout",
          "text": [
            "'compas.db' exists.\n",
            "Tables in the database: []\n",
            "The database is empty.\n"
          ]
        }
      ]
    },
    {
      "cell_type": "markdown",
      "metadata": {
        "id": "397b97c3"
      },
      "source": [
        "## Preprocess the data\n",
        "\n",
        "### Subtask:\n",
        "Prepare the data for analysis with AI Fairness 360. This will involve selecting relevant features and converting the data into the format expected by the toolkit.\n"
      ]
    },
    {
      "cell_type": "markdown",
      "metadata": {
        "id": "385c42e4"
      },
      "source": [
        "**Reasoning**:\n",
        "Load the data from the provided CSV file into a pandas DataFrame and select the relevant columns.\n",
        "\n"
      ]
    },
    {
      "cell_type": "code",
      "metadata": {
        "colab": {
          "base_uri": "https://localhost:8080/",
          "height": 367
        },
        "id": "e1a11d47",
        "outputId": "070ef70d-d95f-4ba3-b8ef-14f14ef5de0d"
      },
      "source": [
        "import pandas as pd\n",
        "from aif360.datasets import StandardDataset\n",
        "\n",
        "# Load the data from the CSV file\n",
        "df = pd.read_csv('/data/compas-scores-two-years.csv')\n",
        "\n",
        "# Select the relevant columns\n",
        "selected_columns = [\n",
        "    'sex',\n",
        "    'age',\n",
        "    'race',\n",
        "    'juv_fel_count',\n",
        "    'juv_misd_count',\n",
        "    'juv_other_count',\n",
        "    'priors_count',\n",
        "    'c_charge_degree',\n",
        "    'c_charge_desc',\n",
        "    'is_recid',\n",
        "    'two_year_recid',\n",
        "    'decile_score',\n",
        "]\n",
        "df_selected = df[selected_columns]\n",
        "\n",
        "# Convert the selected DataFrame into an aif360.datasets.StandardDataset object\n",
        "# Define protected attribute, label, favorable/unfavorable labels, and reference/privileged groups\n",
        "protected_attribute_names = ['race']\n",
        "label_names = ['two_year_recid']\n",
        "favorable_label = 0\n",
        "unfavorable_label = 1\n",
        "privileged_attributes = [{'race': 'Caucasian'}]\n",
        "unprivileged_attributes = [{'race': 'African-American'}]\n",
        "\n",
        "compas_dataset = StandardDataset(\n",
        "    df_selected,\n",
        "    protected_attribute_names=protected_attribute_names,\n",
        "    privileged_attributes=privileged_attributes,\n",
        "    unprivileged_attributes=unprivileged_attributes,\n",
        "    host_dataset=None,\n",
        "    categorical_features=['sex', 'c_charge_degree', 'c_charge_desc'],\n",
        "    features_to_keep=selected_columns,\n",
        "    features_to_drop=[],\n",
        "    label_names=label_names,\n",
        "    favorable_label=favorable_label,\n",
        "    unfavorable_label=unfavorable_label,\n",
        ")\n",
        "\n",
        "# Display the first few rows of the created StandardDataset object\n",
        "# Note: StandardDataset does not have a head() method like pandas DataFrame.\n",
        "# We can access the internal dataframe or print some attributes to verify.\n",
        "print(\"First 5 rows of the dataset's internal dataframe:\")\n",
        "display(compas_dataset.convert_to_dataframe()[0].head())\n",
        "\n",
        "print(\"\\nDataset attributes:\")\n",
        "print(f\"Protected attribute names: {compas_dataset.protected_attribute_names}\")\n",
        "print(f\"Privileged attributes: {compas_dataset.privileged_protected_attributes}\")\n",
        "print(f\"Unprivileged attributes: {compas_dataset.unprivileged_protected_attributes}\")\n",
        "print(f\"Label names: {compas_dataset.label_names}\")\n",
        "print(f\"Favorable label: {compas_dataset.favorable_label}\")\n",
        "print(f\"Unfavorable label: {compas_dataset.unfavorable_label}\")"
      ],
      "execution_count": 5,
      "outputs": [
        {
          "output_type": "error",
          "ename": "FileNotFoundError",
          "evalue": "[Errno 2] No such file or directory: '/data/compas-scores-two-years.csv'",
          "traceback": [
            "\u001b[0;31m---------------------------------------------------------------------------\u001b[0m",
            "\u001b[0;31mFileNotFoundError\u001b[0m                         Traceback (most recent call last)",
            "\u001b[0;32m/tmp/ipython-input-1341920705.py\u001b[0m in \u001b[0;36m<cell line: 0>\u001b[0;34m()\u001b[0m\n\u001b[1;32m      3\u001b[0m \u001b[0;34m\u001b[0m\u001b[0m\n\u001b[1;32m      4\u001b[0m \u001b[0;31m# Load the data from the CSV file\u001b[0m\u001b[0;34m\u001b[0m\u001b[0;34m\u001b[0m\u001b[0m\n\u001b[0;32m----> 5\u001b[0;31m \u001b[0mdf\u001b[0m \u001b[0;34m=\u001b[0m \u001b[0mpd\u001b[0m\u001b[0;34m.\u001b[0m\u001b[0mread_csv\u001b[0m\u001b[0;34m(\u001b[0m\u001b[0;34m'/data/compas-scores-two-years.csv'\u001b[0m\u001b[0;34m)\u001b[0m\u001b[0;34m\u001b[0m\u001b[0;34m\u001b[0m\u001b[0m\n\u001b[0m\u001b[1;32m      6\u001b[0m \u001b[0;34m\u001b[0m\u001b[0m\n\u001b[1;32m      7\u001b[0m \u001b[0;31m# Select the relevant columns\u001b[0m\u001b[0;34m\u001b[0m\u001b[0;34m\u001b[0m\u001b[0m\n",
            "\u001b[0;32m/usr/local/lib/python3.11/dist-packages/pandas/io/parsers/readers.py\u001b[0m in \u001b[0;36mread_csv\u001b[0;34m(filepath_or_buffer, sep, delimiter, header, names, index_col, usecols, dtype, engine, converters, true_values, false_values, skipinitialspace, skiprows, skipfooter, nrows, na_values, keep_default_na, na_filter, verbose, skip_blank_lines, parse_dates, infer_datetime_format, keep_date_col, date_parser, date_format, dayfirst, cache_dates, iterator, chunksize, compression, thousands, decimal, lineterminator, quotechar, quoting, doublequote, escapechar, comment, encoding, encoding_errors, dialect, on_bad_lines, delim_whitespace, low_memory, memory_map, float_precision, storage_options, dtype_backend)\u001b[0m\n\u001b[1;32m   1024\u001b[0m     \u001b[0mkwds\u001b[0m\u001b[0;34m.\u001b[0m\u001b[0mupdate\u001b[0m\u001b[0;34m(\u001b[0m\u001b[0mkwds_defaults\u001b[0m\u001b[0;34m)\u001b[0m\u001b[0;34m\u001b[0m\u001b[0;34m\u001b[0m\u001b[0m\n\u001b[1;32m   1025\u001b[0m \u001b[0;34m\u001b[0m\u001b[0m\n\u001b[0;32m-> 1026\u001b[0;31m     \u001b[0;32mreturn\u001b[0m \u001b[0m_read\u001b[0m\u001b[0;34m(\u001b[0m\u001b[0mfilepath_or_buffer\u001b[0m\u001b[0;34m,\u001b[0m \u001b[0mkwds\u001b[0m\u001b[0;34m)\u001b[0m\u001b[0;34m\u001b[0m\u001b[0;34m\u001b[0m\u001b[0m\n\u001b[0m\u001b[1;32m   1027\u001b[0m \u001b[0;34m\u001b[0m\u001b[0m\n\u001b[1;32m   1028\u001b[0m \u001b[0;34m\u001b[0m\u001b[0m\n",
            "\u001b[0;32m/usr/local/lib/python3.11/dist-packages/pandas/io/parsers/readers.py\u001b[0m in \u001b[0;36m_read\u001b[0;34m(filepath_or_buffer, kwds)\u001b[0m\n\u001b[1;32m    618\u001b[0m \u001b[0;34m\u001b[0m\u001b[0m\n\u001b[1;32m    619\u001b[0m     \u001b[0;31m# Create the parser.\u001b[0m\u001b[0;34m\u001b[0m\u001b[0;34m\u001b[0m\u001b[0m\n\u001b[0;32m--> 620\u001b[0;31m     \u001b[0mparser\u001b[0m \u001b[0;34m=\u001b[0m \u001b[0mTextFileReader\u001b[0m\u001b[0;34m(\u001b[0m\u001b[0mfilepath_or_buffer\u001b[0m\u001b[0;34m,\u001b[0m \u001b[0;34m**\u001b[0m\u001b[0mkwds\u001b[0m\u001b[0;34m)\u001b[0m\u001b[0;34m\u001b[0m\u001b[0;34m\u001b[0m\u001b[0m\n\u001b[0m\u001b[1;32m    621\u001b[0m \u001b[0;34m\u001b[0m\u001b[0m\n\u001b[1;32m    622\u001b[0m     \u001b[0;32mif\u001b[0m \u001b[0mchunksize\u001b[0m \u001b[0;32mor\u001b[0m \u001b[0miterator\u001b[0m\u001b[0;34m:\u001b[0m\u001b[0;34m\u001b[0m\u001b[0;34m\u001b[0m\u001b[0m\n",
            "\u001b[0;32m/usr/local/lib/python3.11/dist-packages/pandas/io/parsers/readers.py\u001b[0m in \u001b[0;36m__init__\u001b[0;34m(self, f, engine, **kwds)\u001b[0m\n\u001b[1;32m   1618\u001b[0m \u001b[0;34m\u001b[0m\u001b[0m\n\u001b[1;32m   1619\u001b[0m         \u001b[0mself\u001b[0m\u001b[0;34m.\u001b[0m\u001b[0mhandles\u001b[0m\u001b[0;34m:\u001b[0m \u001b[0mIOHandles\u001b[0m \u001b[0;34m|\u001b[0m \u001b[0;32mNone\u001b[0m \u001b[0;34m=\u001b[0m \u001b[0;32mNone\u001b[0m\u001b[0;34m\u001b[0m\u001b[0;34m\u001b[0m\u001b[0m\n\u001b[0;32m-> 1620\u001b[0;31m         \u001b[0mself\u001b[0m\u001b[0;34m.\u001b[0m\u001b[0m_engine\u001b[0m \u001b[0;34m=\u001b[0m \u001b[0mself\u001b[0m\u001b[0;34m.\u001b[0m\u001b[0m_make_engine\u001b[0m\u001b[0;34m(\u001b[0m\u001b[0mf\u001b[0m\u001b[0;34m,\u001b[0m \u001b[0mself\u001b[0m\u001b[0;34m.\u001b[0m\u001b[0mengine\u001b[0m\u001b[0;34m)\u001b[0m\u001b[0;34m\u001b[0m\u001b[0;34m\u001b[0m\u001b[0m\n\u001b[0m\u001b[1;32m   1621\u001b[0m \u001b[0;34m\u001b[0m\u001b[0m\n\u001b[1;32m   1622\u001b[0m     \u001b[0;32mdef\u001b[0m \u001b[0mclose\u001b[0m\u001b[0;34m(\u001b[0m\u001b[0mself\u001b[0m\u001b[0;34m)\u001b[0m \u001b[0;34m->\u001b[0m \u001b[0;32mNone\u001b[0m\u001b[0;34m:\u001b[0m\u001b[0;34m\u001b[0m\u001b[0;34m\u001b[0m\u001b[0m\n",
            "\u001b[0;32m/usr/local/lib/python3.11/dist-packages/pandas/io/parsers/readers.py\u001b[0m in \u001b[0;36m_make_engine\u001b[0;34m(self, f, engine)\u001b[0m\n\u001b[1;32m   1878\u001b[0m                 \u001b[0;32mif\u001b[0m \u001b[0;34m\"b\"\u001b[0m \u001b[0;32mnot\u001b[0m \u001b[0;32min\u001b[0m \u001b[0mmode\u001b[0m\u001b[0;34m:\u001b[0m\u001b[0;34m\u001b[0m\u001b[0;34m\u001b[0m\u001b[0m\n\u001b[1;32m   1879\u001b[0m                     \u001b[0mmode\u001b[0m \u001b[0;34m+=\u001b[0m \u001b[0;34m\"b\"\u001b[0m\u001b[0;34m\u001b[0m\u001b[0;34m\u001b[0m\u001b[0m\n\u001b[0;32m-> 1880\u001b[0;31m             self.handles = get_handle(\n\u001b[0m\u001b[1;32m   1881\u001b[0m                 \u001b[0mf\u001b[0m\u001b[0;34m,\u001b[0m\u001b[0;34m\u001b[0m\u001b[0;34m\u001b[0m\u001b[0m\n\u001b[1;32m   1882\u001b[0m                 \u001b[0mmode\u001b[0m\u001b[0;34m,\u001b[0m\u001b[0;34m\u001b[0m\u001b[0;34m\u001b[0m\u001b[0m\n",
            "\u001b[0;32m/usr/local/lib/python3.11/dist-packages/pandas/io/common.py\u001b[0m in \u001b[0;36mget_handle\u001b[0;34m(path_or_buf, mode, encoding, compression, memory_map, is_text, errors, storage_options)\u001b[0m\n\u001b[1;32m    871\u001b[0m         \u001b[0;32mif\u001b[0m \u001b[0mioargs\u001b[0m\u001b[0;34m.\u001b[0m\u001b[0mencoding\u001b[0m \u001b[0;32mand\u001b[0m \u001b[0;34m\"b\"\u001b[0m \u001b[0;32mnot\u001b[0m \u001b[0;32min\u001b[0m \u001b[0mioargs\u001b[0m\u001b[0;34m.\u001b[0m\u001b[0mmode\u001b[0m\u001b[0;34m:\u001b[0m\u001b[0;34m\u001b[0m\u001b[0;34m\u001b[0m\u001b[0m\n\u001b[1;32m    872\u001b[0m             \u001b[0;31m# Encoding\u001b[0m\u001b[0;34m\u001b[0m\u001b[0;34m\u001b[0m\u001b[0m\n\u001b[0;32m--> 873\u001b[0;31m             handle = open(\n\u001b[0m\u001b[1;32m    874\u001b[0m                 \u001b[0mhandle\u001b[0m\u001b[0;34m,\u001b[0m\u001b[0;34m\u001b[0m\u001b[0;34m\u001b[0m\u001b[0m\n\u001b[1;32m    875\u001b[0m                 \u001b[0mioargs\u001b[0m\u001b[0;34m.\u001b[0m\u001b[0mmode\u001b[0m\u001b[0;34m,\u001b[0m\u001b[0;34m\u001b[0m\u001b[0;34m\u001b[0m\u001b[0m\n",
            "\u001b[0;31mFileNotFoundError\u001b[0m: [Errno 2] No such file or directory: '/data/compas-scores-two-years.csv'"
          ]
        }
      ]
    },
    {
      "cell_type": "markdown",
      "metadata": {
        "id": "d770ab5a"
      },
      "source": [
        "**Reasoning**:\n",
        "The previous attempt to load the data failed because the file path was incorrect. I will now try to load the data from a different, more likely path. The rest of the code for data preparation remains the same.\n",
        "\n"
      ]
    },
    {
      "cell_type": "code",
      "metadata": {
        "colab": {
          "base_uri": "https://localhost:8080/",
          "height": 367
        },
        "id": "aZFlYYe1MSrL",
        "outputId": "ca7b479d-38ab-4004-b6b2-336798527a2a"
      },
      "source": [
        "import pandas as pd\n",
        "from aif360.datasets import StandardDataset\n",
        "\n",
        "# Load the data from the CSV file with the corrected path\n",
        "df = pd.read_csv('compas-scores-two-years.csv')\n",
        "\n",
        "# Select the relevant columns\n",
        "selected_columns = [\n",
        "    'sex',\n",
        "    'age',\n",
        "    'race',\n",
        "    'juv_fel_count',\n",
        "    'juv_misd_count',\n",
        "    'juv_other_count',\n",
        "    'priors_count',\n",
        "    'c_charge_degree',\n",
        "    'c_charge_desc',\n",
        "    'is_recid',\n",
        "    'two_year_recid',\n",
        "    'decile_score',\n",
        "]\n",
        "df_selected = df[selected_columns]\n",
        "\n",
        "# Convert the selected DataFrame into an aif360.datasets.StandardDataset object\n",
        "# Define protected attribute, label, favorable/unfavorable labels, and reference/privileged groups\n",
        "protected_attribute_names = ['race']\n",
        "label_names = ['two_year_recid']\n",
        "favorable_label = 0\n",
        "unfavorable_label = 1\n",
        "privileged_attributes = [{'race': 'Caucasian'}]\n",
        "unprivileged_attributes = [{'race': 'African-American'}]\n",
        "\n",
        "compas_dataset = StandardDataset(\n",
        "    df_selected,\n",
        "    protected_attribute_names=protected_attribute_names,\n",
        "    privileged_attributes=privileged_attributes,\n",
        "    unprivileged_attributes=unprivileged_attributes,\n",
        "    host_dataset=None,\n",
        "    categorical_features=['sex', 'c_charge_degree', 'c_charge_desc', 'race'],\n",
        "    features_to_keep=selected_columns,\n",
        "    features_to_drop=[],\n",
        "    label_names=label_names,\n",
        "    favorable_label=favorable_label,\n",
        "    unfavorable_label=unfavorable_label,\n",
        ")\n",
        "\n",
        "# Display the first few rows of the created StandardDataset object\n",
        "# Note: StandardDataset does not have a head() method like pandas DataFrame.\n",
        "# We can access the internal dataframe or print some attributes to verify.\n",
        "print(\"First 5 rows of the dataset's internal dataframe:\")\n",
        "display(compas_dataset.convert_to_dataframe()[0].head())\n",
        "\n",
        "print(\"\\nDataset attributes:\")\n",
        "print(f\"Protected attribute names: {compas_dataset.protected_attribute_names}\")\n",
        "print(f\"Privileged attributes: {compas_dataset.privileged_protected_attributes}\")\n",
        "print(f\"Unprivileged attributes: {compas_dataset.unprivileged_protected_attributes}\")\n",
        "print(f\"Label names: {compas_dataset.label_names}\")\n",
        "print(f\"Favorable label: {compas_dataset.favorable_label}\")\n",
        "print(f\"Unfavorable label: {compas_dataset.unfavorable_label}\")"
      ],
      "execution_count": 6,
      "outputs": [
        {
          "output_type": "error",
          "ename": "FileNotFoundError",
          "evalue": "[Errno 2] No such file or directory: 'compas-scores-two-years.csv'",
          "traceback": [
            "\u001b[0;31m---------------------------------------------------------------------------\u001b[0m",
            "\u001b[0;31mFileNotFoundError\u001b[0m                         Traceback (most recent call last)",
            "\u001b[0;32m/tmp/ipython-input-1800183.py\u001b[0m in \u001b[0;36m<cell line: 0>\u001b[0;34m()\u001b[0m\n\u001b[1;32m      3\u001b[0m \u001b[0;34m\u001b[0m\u001b[0m\n\u001b[1;32m      4\u001b[0m \u001b[0;31m# Load the data from the CSV file with the corrected path\u001b[0m\u001b[0;34m\u001b[0m\u001b[0;34m\u001b[0m\u001b[0m\n\u001b[0;32m----> 5\u001b[0;31m \u001b[0mdf\u001b[0m \u001b[0;34m=\u001b[0m \u001b[0mpd\u001b[0m\u001b[0;34m.\u001b[0m\u001b[0mread_csv\u001b[0m\u001b[0;34m(\u001b[0m\u001b[0;34m'compas-scores-two-years.csv'\u001b[0m\u001b[0;34m)\u001b[0m\u001b[0;34m\u001b[0m\u001b[0;34m\u001b[0m\u001b[0m\n\u001b[0m\u001b[1;32m      6\u001b[0m \u001b[0;34m\u001b[0m\u001b[0m\n\u001b[1;32m      7\u001b[0m \u001b[0;31m# Select the relevant columns\u001b[0m\u001b[0;34m\u001b[0m\u001b[0;34m\u001b[0m\u001b[0m\n",
            "\u001b[0;32m/usr/local/lib/python3.11/dist-packages/pandas/io/parsers/readers.py\u001b[0m in \u001b[0;36mread_csv\u001b[0;34m(filepath_or_buffer, sep, delimiter, header, names, index_col, usecols, dtype, engine, converters, true_values, false_values, skipinitialspace, skiprows, skipfooter, nrows, na_values, keep_default_na, na_filter, verbose, skip_blank_lines, parse_dates, infer_datetime_format, keep_date_col, date_parser, date_format, dayfirst, cache_dates, iterator, chunksize, compression, thousands, decimal, lineterminator, quotechar, quoting, doublequote, escapechar, comment, encoding, encoding_errors, dialect, on_bad_lines, delim_whitespace, low_memory, memory_map, float_precision, storage_options, dtype_backend)\u001b[0m\n\u001b[1;32m   1024\u001b[0m     \u001b[0mkwds\u001b[0m\u001b[0;34m.\u001b[0m\u001b[0mupdate\u001b[0m\u001b[0;34m(\u001b[0m\u001b[0mkwds_defaults\u001b[0m\u001b[0;34m)\u001b[0m\u001b[0;34m\u001b[0m\u001b[0;34m\u001b[0m\u001b[0m\n\u001b[1;32m   1025\u001b[0m \u001b[0;34m\u001b[0m\u001b[0m\n\u001b[0;32m-> 1026\u001b[0;31m     \u001b[0;32mreturn\u001b[0m \u001b[0m_read\u001b[0m\u001b[0;34m(\u001b[0m\u001b[0mfilepath_or_buffer\u001b[0m\u001b[0;34m,\u001b[0m \u001b[0mkwds\u001b[0m\u001b[0;34m)\u001b[0m\u001b[0;34m\u001b[0m\u001b[0;34m\u001b[0m\u001b[0m\n\u001b[0m\u001b[1;32m   1027\u001b[0m \u001b[0;34m\u001b[0m\u001b[0m\n\u001b[1;32m   1028\u001b[0m \u001b[0;34m\u001b[0m\u001b[0m\n",
            "\u001b[0;32m/usr/local/lib/python3.11/dist-packages/pandas/io/parsers/readers.py\u001b[0m in \u001b[0;36m_read\u001b[0;34m(filepath_or_buffer, kwds)\u001b[0m\n\u001b[1;32m    618\u001b[0m \u001b[0;34m\u001b[0m\u001b[0m\n\u001b[1;32m    619\u001b[0m     \u001b[0;31m# Create the parser.\u001b[0m\u001b[0;34m\u001b[0m\u001b[0;34m\u001b[0m\u001b[0m\n\u001b[0;32m--> 620\u001b[0;31m     \u001b[0mparser\u001b[0m \u001b[0;34m=\u001b[0m \u001b[0mTextFileReader\u001b[0m\u001b[0;34m(\u001b[0m\u001b[0mfilepath_or_buffer\u001b[0m\u001b[0;34m,\u001b[0m \u001b[0;34m**\u001b[0m\u001b[0mkwds\u001b[0m\u001b[0;34m)\u001b[0m\u001b[0;34m\u001b[0m\u001b[0;34m\u001b[0m\u001b[0m\n\u001b[0m\u001b[1;32m    621\u001b[0m \u001b[0;34m\u001b[0m\u001b[0m\n\u001b[1;32m    622\u001b[0m     \u001b[0;32mif\u001b[0m \u001b[0mchunksize\u001b[0m \u001b[0;32mor\u001b[0m \u001b[0miterator\u001b[0m\u001b[0;34m:\u001b[0m\u001b[0;34m\u001b[0m\u001b[0;34m\u001b[0m\u001b[0m\n",
            "\u001b[0;32m/usr/local/lib/python3.11/dist-packages/pandas/io/parsers/readers.py\u001b[0m in \u001b[0;36m__init__\u001b[0;34m(self, f, engine, **kwds)\u001b[0m\n\u001b[1;32m   1618\u001b[0m \u001b[0;34m\u001b[0m\u001b[0m\n\u001b[1;32m   1619\u001b[0m         \u001b[0mself\u001b[0m\u001b[0;34m.\u001b[0m\u001b[0mhandles\u001b[0m\u001b[0;34m:\u001b[0m \u001b[0mIOHandles\u001b[0m \u001b[0;34m|\u001b[0m \u001b[0;32mNone\u001b[0m \u001b[0;34m=\u001b[0m \u001b[0;32mNone\u001b[0m\u001b[0;34m\u001b[0m\u001b[0;34m\u001b[0m\u001b[0m\n\u001b[0;32m-> 1620\u001b[0;31m         \u001b[0mself\u001b[0m\u001b[0;34m.\u001b[0m\u001b[0m_engine\u001b[0m \u001b[0;34m=\u001b[0m \u001b[0mself\u001b[0m\u001b[0;34m.\u001b[0m\u001b[0m_make_engine\u001b[0m\u001b[0;34m(\u001b[0m\u001b[0mf\u001b[0m\u001b[0;34m,\u001b[0m \u001b[0mself\u001b[0m\u001b[0;34m.\u001b[0m\u001b[0mengine\u001b[0m\u001b[0;34m)\u001b[0m\u001b[0;34m\u001b[0m\u001b[0;34m\u001b[0m\u001b[0m\n\u001b[0m\u001b[1;32m   1621\u001b[0m \u001b[0;34m\u001b[0m\u001b[0m\n\u001b[1;32m   1622\u001b[0m     \u001b[0;32mdef\u001b[0m \u001b[0mclose\u001b[0m\u001b[0;34m(\u001b[0m\u001b[0mself\u001b[0m\u001b[0;34m)\u001b[0m \u001b[0;34m->\u001b[0m \u001b[0;32mNone\u001b[0m\u001b[0;34m:\u001b[0m\u001b[0;34m\u001b[0m\u001b[0;34m\u001b[0m\u001b[0m\n",
            "\u001b[0;32m/usr/local/lib/python3.11/dist-packages/pandas/io/parsers/readers.py\u001b[0m in \u001b[0;36m_make_engine\u001b[0;34m(self, f, engine)\u001b[0m\n\u001b[1;32m   1878\u001b[0m                 \u001b[0;32mif\u001b[0m \u001b[0;34m\"b\"\u001b[0m \u001b[0;32mnot\u001b[0m \u001b[0;32min\u001b[0m \u001b[0mmode\u001b[0m\u001b[0;34m:\u001b[0m\u001b[0;34m\u001b[0m\u001b[0;34m\u001b[0m\u001b[0m\n\u001b[1;32m   1879\u001b[0m                     \u001b[0mmode\u001b[0m \u001b[0;34m+=\u001b[0m \u001b[0;34m\"b\"\u001b[0m\u001b[0;34m\u001b[0m\u001b[0;34m\u001b[0m\u001b[0m\n\u001b[0;32m-> 1880\u001b[0;31m             self.handles = get_handle(\n\u001b[0m\u001b[1;32m   1881\u001b[0m                 \u001b[0mf\u001b[0m\u001b[0;34m,\u001b[0m\u001b[0;34m\u001b[0m\u001b[0;34m\u001b[0m\u001b[0m\n\u001b[1;32m   1882\u001b[0m                 \u001b[0mmode\u001b[0m\u001b[0;34m,\u001b[0m\u001b[0;34m\u001b[0m\u001b[0;34m\u001b[0m\u001b[0m\n",
            "\u001b[0;32m/usr/local/lib/python3.11/dist-packages/pandas/io/common.py\u001b[0m in \u001b[0;36mget_handle\u001b[0;34m(path_or_buf, mode, encoding, compression, memory_map, is_text, errors, storage_options)\u001b[0m\n\u001b[1;32m    871\u001b[0m         \u001b[0;32mif\u001b[0m \u001b[0mioargs\u001b[0m\u001b[0;34m.\u001b[0m\u001b[0mencoding\u001b[0m \u001b[0;32mand\u001b[0m \u001b[0;34m\"b\"\u001b[0m \u001b[0;32mnot\u001b[0m \u001b[0;32min\u001b[0m \u001b[0mioargs\u001b[0m\u001b[0;34m.\u001b[0m\u001b[0mmode\u001b[0m\u001b[0;34m:\u001b[0m\u001b[0;34m\u001b[0m\u001b[0;34m\u001b[0m\u001b[0m\n\u001b[1;32m    872\u001b[0m             \u001b[0;31m# Encoding\u001b[0m\u001b[0;34m\u001b[0m\u001b[0;34m\u001b[0m\u001b[0m\n\u001b[0;32m--> 873\u001b[0;31m             handle = open(\n\u001b[0m\u001b[1;32m    874\u001b[0m                 \u001b[0mhandle\u001b[0m\u001b[0;34m,\u001b[0m\u001b[0;34m\u001b[0m\u001b[0;34m\u001b[0m\u001b[0m\n\u001b[1;32m    875\u001b[0m                 \u001b[0mioargs\u001b[0m\u001b[0;34m.\u001b[0m\u001b[0mmode\u001b[0m\u001b[0;34m,\u001b[0m\u001b[0;34m\u001b[0m\u001b[0;34m\u001b[0m\u001b[0m\n",
            "\u001b[0;31mFileNotFoundError\u001b[0m: [Errno 2] No such file or directory: 'compas-scores-two-years.csv'"
          ]
        }
      ]
    },
    {
      "cell_type": "markdown",
      "metadata": {
        "id": "6a9b3f82"
      },
      "source": [
        "**Reasoning**:\n",
        "I have tried two different paths to load the CSV file and both have failed. It's likely that I don't have the correct path to the data. I will now try to find the file in the current directory and its subdirectories.\n",
        "\n"
      ]
    },
    {
      "cell_type": "code",
      "metadata": {
        "colab": {
          "base_uri": "https://localhost:8080/"
        },
        "id": "cpHFRZSxMUWb",
        "outputId": "c9b4c56f-f589-42e6-b26b-705a342cf26d"
      },
      "source": [
        "import os\n",
        "\n",
        "for dirname, _, filenames in os.walk('.'):\n",
        "    for filename in filenames:\n",
        "        if 'compas' in filename:\n",
        "            print(os.path.join(dirname, filename))"
      ],
      "execution_count": 7,
      "outputs": [
        {
          "output_type": "stream",
          "name": "stdout",
          "text": [
            "./compas.db\n"
          ]
        }
      ]
    },
    {
      "cell_type": "markdown",
      "metadata": {
        "id": "2eb42ce5"
      },
      "source": [
        "## Preprocess the data\n",
        "\n",
        "### Subtask:\n",
        "Prepare the data for analysis with AI Fairness 360. This will involve selecting relevant features and converting the data into the format expected by the toolkit.\n"
      ]
    },
    {
      "cell_type": "markdown",
      "metadata": {
        "id": "16a3080e"
      },
      "source": [
        "**Reasoning**:\n",
        "Download the COMPAS dataset CSV file from the specified URL and load it into a pandas DataFrame. Then select the relevant columns for the bias audit.\n",
        "\n"
      ]
    },
    {
      "cell_type": "code",
      "metadata": {
        "colab": {
          "base_uri": "https://localhost:8080/",
          "height": 326
        },
        "id": "2f28ffd6",
        "outputId": "5c45fa9c-192f-479d-9d70-afa563312a8f"
      },
      "source": [
        "import pandas as pd\n",
        "\n",
        "csv_url = 'https://raw.githubusercontent.com/propublica/compas-analysis/master/compas-scores-two-years.csv'\n",
        "df = pd.read_csv(csv_url)\n",
        "\n",
        "selected_columns = [\n",
        "    'sex', 'age', 'race', 'juv_fel_count', 'juv_misd_count',\n",
        "    'juv_other_count', 'priors_count', 'c_charge_degree', 'c_charge_desc',\n",
        "    'two_year_recid', 'decile_score'\n",
        "]\n",
        "\n",
        "df = df[selected_columns]\n",
        "\n",
        "display(df.head())"
      ],
      "execution_count": 8,
      "outputs": [
        {
          "output_type": "display_data",
          "data": {
            "text/plain": [
              "    sex  age              race  juv_fel_count  juv_misd_count  \\\n",
              "0  Male   69             Other              0               0   \n",
              "1  Male   34  African-American              0               0   \n",
              "2  Male   24  African-American              0               0   \n",
              "3  Male   23  African-American              0               1   \n",
              "4  Male   43             Other              0               0   \n",
              "\n",
              "   juv_other_count  priors_count c_charge_degree  \\\n",
              "0                0             0               F   \n",
              "1                0             0               F   \n",
              "2                1             4               F   \n",
              "3                0             1               F   \n",
              "4                0             2               F   \n",
              "\n",
              "                    c_charge_desc  two_year_recid  decile_score  \n",
              "0    Aggravated Assault w/Firearm               0             1  \n",
              "1  Felony Battery w/Prior Convict               1             3  \n",
              "2           Possession of Cocaine               1             4  \n",
              "3          Possession of Cannabis               0             8  \n",
              "4           arrest case no charge               0             1  "
            ],
            "text/html": [
              "\n",
              "  <div id=\"df-aa5f3871-20bf-4be6-b1d0-d33c78898881\" class=\"colab-df-container\">\n",
              "    <div>\n",
              "<style scoped>\n",
              "    .dataframe tbody tr th:only-of-type {\n",
              "        vertical-align: middle;\n",
              "    }\n",
              "\n",
              "    .dataframe tbody tr th {\n",
              "        vertical-align: top;\n",
              "    }\n",
              "\n",
              "    .dataframe thead th {\n",
              "        text-align: right;\n",
              "    }\n",
              "</style>\n",
              "<table border=\"1\" class=\"dataframe\">\n",
              "  <thead>\n",
              "    <tr style=\"text-align: right;\">\n",
              "      <th></th>\n",
              "      <th>sex</th>\n",
              "      <th>age</th>\n",
              "      <th>race</th>\n",
              "      <th>juv_fel_count</th>\n",
              "      <th>juv_misd_count</th>\n",
              "      <th>juv_other_count</th>\n",
              "      <th>priors_count</th>\n",
              "      <th>c_charge_degree</th>\n",
              "      <th>c_charge_desc</th>\n",
              "      <th>two_year_recid</th>\n",
              "      <th>decile_score</th>\n",
              "    </tr>\n",
              "  </thead>\n",
              "  <tbody>\n",
              "    <tr>\n",
              "      <th>0</th>\n",
              "      <td>Male</td>\n",
              "      <td>69</td>\n",
              "      <td>Other</td>\n",
              "      <td>0</td>\n",
              "      <td>0</td>\n",
              "      <td>0</td>\n",
              "      <td>0</td>\n",
              "      <td>F</td>\n",
              "      <td>Aggravated Assault w/Firearm</td>\n",
              "      <td>0</td>\n",
              "      <td>1</td>\n",
              "    </tr>\n",
              "    <tr>\n",
              "      <th>1</th>\n",
              "      <td>Male</td>\n",
              "      <td>34</td>\n",
              "      <td>African-American</td>\n",
              "      <td>0</td>\n",
              "      <td>0</td>\n",
              "      <td>0</td>\n",
              "      <td>0</td>\n",
              "      <td>F</td>\n",
              "      <td>Felony Battery w/Prior Convict</td>\n",
              "      <td>1</td>\n",
              "      <td>3</td>\n",
              "    </tr>\n",
              "    <tr>\n",
              "      <th>2</th>\n",
              "      <td>Male</td>\n",
              "      <td>24</td>\n",
              "      <td>African-American</td>\n",
              "      <td>0</td>\n",
              "      <td>0</td>\n",
              "      <td>1</td>\n",
              "      <td>4</td>\n",
              "      <td>F</td>\n",
              "      <td>Possession of Cocaine</td>\n",
              "      <td>1</td>\n",
              "      <td>4</td>\n",
              "    </tr>\n",
              "    <tr>\n",
              "      <th>3</th>\n",
              "      <td>Male</td>\n",
              "      <td>23</td>\n",
              "      <td>African-American</td>\n",
              "      <td>0</td>\n",
              "      <td>1</td>\n",
              "      <td>0</td>\n",
              "      <td>1</td>\n",
              "      <td>F</td>\n",
              "      <td>Possession of Cannabis</td>\n",
              "      <td>0</td>\n",
              "      <td>8</td>\n",
              "    </tr>\n",
              "    <tr>\n",
              "      <th>4</th>\n",
              "      <td>Male</td>\n",
              "      <td>43</td>\n",
              "      <td>Other</td>\n",
              "      <td>0</td>\n",
              "      <td>0</td>\n",
              "      <td>0</td>\n",
              "      <td>2</td>\n",
              "      <td>F</td>\n",
              "      <td>arrest case no charge</td>\n",
              "      <td>0</td>\n",
              "      <td>1</td>\n",
              "    </tr>\n",
              "  </tbody>\n",
              "</table>\n",
              "</div>\n",
              "    <div class=\"colab-df-buttons\">\n",
              "\n",
              "  <div class=\"colab-df-container\">\n",
              "    <button class=\"colab-df-convert\" onclick=\"convertToInteractive('df-aa5f3871-20bf-4be6-b1d0-d33c78898881')\"\n",
              "            title=\"Convert this dataframe to an interactive table.\"\n",
              "            style=\"display:none;\">\n",
              "\n",
              "  <svg xmlns=\"http://www.w3.org/2000/svg\" height=\"24px\" viewBox=\"0 -960 960 960\">\n",
              "    <path d=\"M120-120v-720h720v720H120Zm60-500h600v-160H180v160Zm220 220h160v-160H400v160Zm0 220h160v-160H400v160ZM180-400h160v-160H180v160Zm440 0h160v-160H620v160ZM180-180h160v-160H180v160Zm440 0h160v-160H620v160Z\"/>\n",
              "  </svg>\n",
              "    </button>\n",
              "\n",
              "  <style>\n",
              "    .colab-df-container {\n",
              "      display:flex;\n",
              "      gap: 12px;\n",
              "    }\n",
              "\n",
              "    .colab-df-convert {\n",
              "      background-color: #E8F0FE;\n",
              "      border: none;\n",
              "      border-radius: 50%;\n",
              "      cursor: pointer;\n",
              "      display: none;\n",
              "      fill: #1967D2;\n",
              "      height: 32px;\n",
              "      padding: 0 0 0 0;\n",
              "      width: 32px;\n",
              "    }\n",
              "\n",
              "    .colab-df-convert:hover {\n",
              "      background-color: #E2EBFA;\n",
              "      box-shadow: 0px 1px 2px rgba(60, 64, 67, 0.3), 0px 1px 3px 1px rgba(60, 64, 67, 0.15);\n",
              "      fill: #174EA6;\n",
              "    }\n",
              "\n",
              "    .colab-df-buttons div {\n",
              "      margin-bottom: 4px;\n",
              "    }\n",
              "\n",
              "    [theme=dark] .colab-df-convert {\n",
              "      background-color: #3B4455;\n",
              "      fill: #D2E3FC;\n",
              "    }\n",
              "\n",
              "    [theme=dark] .colab-df-convert:hover {\n",
              "      background-color: #434B5C;\n",
              "      box-shadow: 0px 1px 3px 1px rgba(0, 0, 0, 0.15);\n",
              "      filter: drop-shadow(0px 1px 2px rgba(0, 0, 0, 0.3));\n",
              "      fill: #FFFFFF;\n",
              "    }\n",
              "  </style>\n",
              "\n",
              "    <script>\n",
              "      const buttonEl =\n",
              "        document.querySelector('#df-aa5f3871-20bf-4be6-b1d0-d33c78898881 button.colab-df-convert');\n",
              "      buttonEl.style.display =\n",
              "        google.colab.kernel.accessAllowed ? 'block' : 'none';\n",
              "\n",
              "      async function convertToInteractive(key) {\n",
              "        const element = document.querySelector('#df-aa5f3871-20bf-4be6-b1d0-d33c78898881');\n",
              "        const dataTable =\n",
              "          await google.colab.kernel.invokeFunction('convertToInteractive',\n",
              "                                                    [key], {});\n",
              "        if (!dataTable) return;\n",
              "\n",
              "        const docLinkHtml = 'Like what you see? Visit the ' +\n",
              "          '<a target=\"_blank\" href=https://colab.research.google.com/notebooks/data_table.ipynb>data table notebook</a>'\n",
              "          + ' to learn more about interactive tables.';\n",
              "        element.innerHTML = '';\n",
              "        dataTable['output_type'] = 'display_data';\n",
              "        await google.colab.output.renderOutput(dataTable, element);\n",
              "        const docLink = document.createElement('div');\n",
              "        docLink.innerHTML = docLinkHtml;\n",
              "        element.appendChild(docLink);\n",
              "      }\n",
              "    </script>\n",
              "  </div>\n",
              "\n",
              "\n",
              "    <div id=\"df-797e3790-0dc9-4f1e-adb8-39ee8856a54b\">\n",
              "      <button class=\"colab-df-quickchart\" onclick=\"quickchart('df-797e3790-0dc9-4f1e-adb8-39ee8856a54b')\"\n",
              "                title=\"Suggest charts\"\n",
              "                style=\"display:none;\">\n",
              "\n",
              "<svg xmlns=\"http://www.w3.org/2000/svg\" height=\"24px\"viewBox=\"0 0 24 24\"\n",
              "     width=\"24px\">\n",
              "    <g>\n",
              "        <path d=\"M19 3H5c-1.1 0-2 .9-2 2v14c0 1.1.9 2 2 2h14c1.1 0 2-.9 2-2V5c0-1.1-.9-2-2-2zM9 17H7v-7h2v7zm4 0h-2V7h2v10zm4 0h-2v-4h2v4z\"/>\n",
              "    </g>\n",
              "</svg>\n",
              "      </button>\n",
              "\n",
              "<style>\n",
              "  .colab-df-quickchart {\n",
              "      --bg-color: #E8F0FE;\n",
              "      --fill-color: #1967D2;\n",
              "      --hover-bg-color: #E2EBFA;\n",
              "      --hover-fill-color: #174EA6;\n",
              "      --disabled-fill-color: #AAA;\n",
              "      --disabled-bg-color: #DDD;\n",
              "  }\n",
              "\n",
              "  [theme=dark] .colab-df-quickchart {\n",
              "      --bg-color: #3B4455;\n",
              "      --fill-color: #D2E3FC;\n",
              "      --hover-bg-color: #434B5C;\n",
              "      --hover-fill-color: #FFFFFF;\n",
              "      --disabled-bg-color: #3B4455;\n",
              "      --disabled-fill-color: #666;\n",
              "  }\n",
              "\n",
              "  .colab-df-quickchart {\n",
              "    background-color: var(--bg-color);\n",
              "    border: none;\n",
              "    border-radius: 50%;\n",
              "    cursor: pointer;\n",
              "    display: none;\n",
              "    fill: var(--fill-color);\n",
              "    height: 32px;\n",
              "    padding: 0;\n",
              "    width: 32px;\n",
              "  }\n",
              "\n",
              "  .colab-df-quickchart:hover {\n",
              "    background-color: var(--hover-bg-color);\n",
              "    box-shadow: 0 1px 2px rgba(60, 64, 67, 0.3), 0 1px 3px 1px rgba(60, 64, 67, 0.15);\n",
              "    fill: var(--button-hover-fill-color);\n",
              "  }\n",
              "\n",
              "  .colab-df-quickchart-complete:disabled,\n",
              "  .colab-df-quickchart-complete:disabled:hover {\n",
              "    background-color: var(--disabled-bg-color);\n",
              "    fill: var(--disabled-fill-color);\n",
              "    box-shadow: none;\n",
              "  }\n",
              "\n",
              "  .colab-df-spinner {\n",
              "    border: 2px solid var(--fill-color);\n",
              "    border-color: transparent;\n",
              "    border-bottom-color: var(--fill-color);\n",
              "    animation:\n",
              "      spin 1s steps(1) infinite;\n",
              "  }\n",
              "\n",
              "  @keyframes spin {\n",
              "    0% {\n",
              "      border-color: transparent;\n",
              "      border-bottom-color: var(--fill-color);\n",
              "      border-left-color: var(--fill-color);\n",
              "    }\n",
              "    20% {\n",
              "      border-color: transparent;\n",
              "      border-left-color: var(--fill-color);\n",
              "      border-top-color: var(--fill-color);\n",
              "    }\n",
              "    30% {\n",
              "      border-color: transparent;\n",
              "      border-left-color: var(--fill-color);\n",
              "      border-top-color: var(--fill-color);\n",
              "      border-right-color: var(--fill-color);\n",
              "    }\n",
              "    40% {\n",
              "      border-color: transparent;\n",
              "      border-right-color: var(--fill-color);\n",
              "      border-top-color: var(--fill-color);\n",
              "    }\n",
              "    60% {\n",
              "      border-color: transparent;\n",
              "      border-right-color: var(--fill-color);\n",
              "    }\n",
              "    80% {\n",
              "      border-color: transparent;\n",
              "      border-right-color: var(--fill-color);\n",
              "      border-bottom-color: var(--fill-color);\n",
              "    }\n",
              "    90% {\n",
              "      border-color: transparent;\n",
              "      border-bottom-color: var(--fill-color);\n",
              "    }\n",
              "  }\n",
              "</style>\n",
              "\n",
              "      <script>\n",
              "        async function quickchart(key) {\n",
              "          const quickchartButtonEl =\n",
              "            document.querySelector('#' + key + ' button');\n",
              "          quickchartButtonEl.disabled = true;  // To prevent multiple clicks.\n",
              "          quickchartButtonEl.classList.add('colab-df-spinner');\n",
              "          try {\n",
              "            const charts = await google.colab.kernel.invokeFunction(\n",
              "                'suggestCharts', [key], {});\n",
              "          } catch (error) {\n",
              "            console.error('Error during call to suggestCharts:', error);\n",
              "          }\n",
              "          quickchartButtonEl.classList.remove('colab-df-spinner');\n",
              "          quickchartButtonEl.classList.add('colab-df-quickchart-complete');\n",
              "        }\n",
              "        (() => {\n",
              "          let quickchartButtonEl =\n",
              "            document.querySelector('#df-797e3790-0dc9-4f1e-adb8-39ee8856a54b button');\n",
              "          quickchartButtonEl.style.display =\n",
              "            google.colab.kernel.accessAllowed ? 'block' : 'none';\n",
              "        })();\n",
              "      </script>\n",
              "    </div>\n",
              "\n",
              "    </div>\n",
              "  </div>\n"
            ],
            "application/vnd.google.colaboratory.intrinsic+json": {
              "type": "dataframe",
              "summary": "{\n  \"name\": \"display(df\",\n  \"rows\": 5,\n  \"fields\": [\n    {\n      \"column\": \"sex\",\n      \"properties\": {\n        \"dtype\": \"category\",\n        \"num_unique_values\": 1,\n        \"samples\": [\n          \"Male\"\n        ],\n        \"semantic_type\": \"\",\n        \"description\": \"\"\n      }\n    },\n    {\n      \"column\": \"age\",\n      \"properties\": {\n        \"dtype\": \"number\",\n        \"std\": 18,\n        \"min\": 23,\n        \"max\": 69,\n        \"num_unique_values\": 5,\n        \"samples\": [\n          34\n        ],\n        \"semantic_type\": \"\",\n        \"description\": \"\"\n      }\n    },\n    {\n      \"column\": \"race\",\n      \"properties\": {\n        \"dtype\": \"category\",\n        \"num_unique_values\": 2,\n        \"samples\": [\n          \"African-American\"\n        ],\n        \"semantic_type\": \"\",\n        \"description\": \"\"\n      }\n    },\n    {\n      \"column\": \"juv_fel_count\",\n      \"properties\": {\n        \"dtype\": \"number\",\n        \"std\": 0,\n        \"min\": 0,\n        \"max\": 0,\n        \"num_unique_values\": 1,\n        \"samples\": [\n          0\n        ],\n        \"semantic_type\": \"\",\n        \"description\": \"\"\n      }\n    },\n    {\n      \"column\": \"juv_misd_count\",\n      \"properties\": {\n        \"dtype\": \"number\",\n        \"std\": 0,\n        \"min\": 0,\n        \"max\": 1,\n        \"num_unique_values\": 2,\n        \"samples\": [\n          1\n        ],\n        \"semantic_type\": \"\",\n        \"description\": \"\"\n      }\n    },\n    {\n      \"column\": \"juv_other_count\",\n      \"properties\": {\n        \"dtype\": \"number\",\n        \"std\": 0,\n        \"min\": 0,\n        \"max\": 1,\n        \"num_unique_values\": 2,\n        \"samples\": [\n          1\n        ],\n        \"semantic_type\": \"\",\n        \"description\": \"\"\n      }\n    },\n    {\n      \"column\": \"priors_count\",\n      \"properties\": {\n        \"dtype\": \"number\",\n        \"std\": 1,\n        \"min\": 0,\n        \"max\": 4,\n        \"num_unique_values\": 4,\n        \"samples\": [\n          4\n        ],\n        \"semantic_type\": \"\",\n        \"description\": \"\"\n      }\n    },\n    {\n      \"column\": \"c_charge_degree\",\n      \"properties\": {\n        \"dtype\": \"category\",\n        \"num_unique_values\": 1,\n        \"samples\": [\n          \"F\"\n        ],\n        \"semantic_type\": \"\",\n        \"description\": \"\"\n      }\n    },\n    {\n      \"column\": \"c_charge_desc\",\n      \"properties\": {\n        \"dtype\": \"string\",\n        \"num_unique_values\": 5,\n        \"samples\": [\n          \"Felony Battery w/Prior Convict\"\n        ],\n        \"semantic_type\": \"\",\n        \"description\": \"\"\n      }\n    },\n    {\n      \"column\": \"two_year_recid\",\n      \"properties\": {\n        \"dtype\": \"number\",\n        \"std\": 0,\n        \"min\": 0,\n        \"max\": 1,\n        \"num_unique_values\": 2,\n        \"samples\": [\n          1\n        ],\n        \"semantic_type\": \"\",\n        \"description\": \"\"\n      }\n    },\n    {\n      \"column\": \"decile_score\",\n      \"properties\": {\n        \"dtype\": \"number\",\n        \"std\": 2,\n        \"min\": 1,\n        \"max\": 8,\n        \"num_unique_values\": 4,\n        \"samples\": [\n          3\n        ],\n        \"semantic_type\": \"\",\n        \"description\": \"\"\n      }\n    }\n  ]\n}"
            }
          },
          "metadata": {}
        }
      ]
    },
    {
      "cell_type": "markdown",
      "metadata": {
        "id": "d331ca99"
      },
      "source": [
        "**Reasoning**:\n",
        "The next steps are to handle missing values, define the protected attribute and target variable, and then convert the DataFrame to an `aif360.datasets.StandardDataset`. First, I will check for missing values and drop rows with any missing values, as it's a common strategy and the dataset is large enough to handle some data loss. Then, I will define the protected attribute as 'race' and the target variable as 'two_year_recid'. Finally, I will convert the dataframe to a StandardDataset.\n",
        "\n"
      ]
    },
    {
      "cell_type": "code",
      "metadata": {
        "colab": {
          "base_uri": "https://localhost:8080/",
          "height": 537
        },
        "id": "520dd9db",
        "outputId": "1076b666-72fb-4cd9-fb4b-d8ddf57ba0c5"
      },
      "source": [
        "from aif360.datasets import StandardDataset\n",
        "\n",
        "# Drop rows with missing values\n",
        "df.dropna(inplace=True)\n",
        "\n",
        "# Define protected attribute and target variable\n",
        "protected_attribute = 'race'\n",
        "target_variable = 'two_year_recid'\n",
        "\n",
        "# Create the StandardDataset\n",
        "dataset = StandardDataset(\n",
        "    df,\n",
        "    label_name=target_variable,\n",
        "    favorable_classes=[0],\n",
        "    protected_attribute_names=[protected_attribute],\n",
        "    privileged_classes=[['Caucasian']],\n",
        "    categorical_features=['sex', 'c_charge_degree', 'race', 'c_charge_desc']\n",
        ")\n",
        "\n",
        "print(dataset)"
      ],
      "execution_count": 9,
      "outputs": [
        {
          "output_type": "error",
          "ename": "KeyError",
          "evalue": "'race'",
          "traceback": [
            "\u001b[0;31m---------------------------------------------------------------------------\u001b[0m",
            "\u001b[0;31mKeyError\u001b[0m                                  Traceback (most recent call last)",
            "\u001b[0;32m/usr/local/lib/python3.11/dist-packages/pandas/core/indexes/base.py\u001b[0m in \u001b[0;36mget_loc\u001b[0;34m(self, key)\u001b[0m\n\u001b[1;32m   3804\u001b[0m         \u001b[0;32mtry\u001b[0m\u001b[0;34m:\u001b[0m\u001b[0;34m\u001b[0m\u001b[0;34m\u001b[0m\u001b[0m\n\u001b[0;32m-> 3805\u001b[0;31m             \u001b[0;32mreturn\u001b[0m \u001b[0mself\u001b[0m\u001b[0;34m.\u001b[0m\u001b[0m_engine\u001b[0m\u001b[0;34m.\u001b[0m\u001b[0mget_loc\u001b[0m\u001b[0;34m(\u001b[0m\u001b[0mcasted_key\u001b[0m\u001b[0;34m)\u001b[0m\u001b[0;34m\u001b[0m\u001b[0;34m\u001b[0m\u001b[0m\n\u001b[0m\u001b[1;32m   3806\u001b[0m         \u001b[0;32mexcept\u001b[0m \u001b[0mKeyError\u001b[0m \u001b[0;32mas\u001b[0m \u001b[0merr\u001b[0m\u001b[0;34m:\u001b[0m\u001b[0;34m\u001b[0m\u001b[0;34m\u001b[0m\u001b[0m\n",
            "\u001b[0;32mindex.pyx\u001b[0m in \u001b[0;36mpandas._libs.index.IndexEngine.get_loc\u001b[0;34m()\u001b[0m\n",
            "\u001b[0;32mindex.pyx\u001b[0m in \u001b[0;36mpandas._libs.index.IndexEngine.get_loc\u001b[0;34m()\u001b[0m\n",
            "\u001b[0;32mpandas/_libs/hashtable_class_helper.pxi\u001b[0m in \u001b[0;36mpandas._libs.hashtable.PyObjectHashTable.get_item\u001b[0;34m()\u001b[0m\n",
            "\u001b[0;32mpandas/_libs/hashtable_class_helper.pxi\u001b[0m in \u001b[0;36mpandas._libs.hashtable.PyObjectHashTable.get_item\u001b[0;34m()\u001b[0m\n",
            "\u001b[0;31mKeyError\u001b[0m: 'race'",
            "\nThe above exception was the direct cause of the following exception:\n",
            "\u001b[0;31mKeyError\u001b[0m                                  Traceback (most recent call last)",
            "\u001b[0;32m/tmp/ipython-input-3870536178.py\u001b[0m in \u001b[0;36m<cell line: 0>\u001b[0;34m()\u001b[0m\n\u001b[1;32m      9\u001b[0m \u001b[0;34m\u001b[0m\u001b[0m\n\u001b[1;32m     10\u001b[0m \u001b[0;31m# Create the StandardDataset\u001b[0m\u001b[0;34m\u001b[0m\u001b[0;34m\u001b[0m\u001b[0m\n\u001b[0;32m---> 11\u001b[0;31m dataset = StandardDataset(\n\u001b[0m\u001b[1;32m     12\u001b[0m     \u001b[0mdf\u001b[0m\u001b[0;34m,\u001b[0m\u001b[0;34m\u001b[0m\u001b[0;34m\u001b[0m\u001b[0m\n\u001b[1;32m     13\u001b[0m     \u001b[0mlabel_name\u001b[0m\u001b[0;34m=\u001b[0m\u001b[0mtarget_variable\u001b[0m\u001b[0;34m,\u001b[0m\u001b[0;34m\u001b[0m\u001b[0;34m\u001b[0m\u001b[0m\n",
            "\u001b[0;32m/usr/local/lib/python3.11/dist-packages/aif360/datasets/standard_dataset.py\u001b[0m in \u001b[0;36m__init__\u001b[0;34m(self, df, label_name, favorable_classes, protected_attribute_names, privileged_classes, instance_weights_name, scores_name, categorical_features, features_to_keep, features_to_drop, na_values, custom_preprocessing, metadata)\u001b[0m\n\u001b[1;32m    113\u001b[0m             \u001b[0;32mif\u001b[0m \u001b[0mcallable\u001b[0m\u001b[0;34m(\u001b[0m\u001b[0mvals\u001b[0m\u001b[0;34m)\u001b[0m\u001b[0;34m:\u001b[0m\u001b[0;34m\u001b[0m\u001b[0;34m\u001b[0m\u001b[0m\n\u001b[1;32m    114\u001b[0m                 \u001b[0mdf\u001b[0m\u001b[0;34m[\u001b[0m\u001b[0mattr\u001b[0m\u001b[0;34m]\u001b[0m \u001b[0;34m=\u001b[0m \u001b[0mdf\u001b[0m\u001b[0;34m[\u001b[0m\u001b[0mattr\u001b[0m\u001b[0;34m]\u001b[0m\u001b[0;34m.\u001b[0m\u001b[0mapply\u001b[0m\u001b[0;34m(\u001b[0m\u001b[0mvals\u001b[0m\u001b[0;34m)\u001b[0m\u001b[0;34m\u001b[0m\u001b[0;34m\u001b[0m\u001b[0m\n\u001b[0;32m--> 115\u001b[0;31m             \u001b[0;32melif\u001b[0m \u001b[0mnp\u001b[0m\u001b[0;34m.\u001b[0m\u001b[0missubdtype\u001b[0m\u001b[0;34m(\u001b[0m\u001b[0mdf\u001b[0m\u001b[0;34m[\u001b[0m\u001b[0mattr\u001b[0m\u001b[0;34m]\u001b[0m\u001b[0;34m.\u001b[0m\u001b[0mdtype\u001b[0m\u001b[0;34m,\u001b[0m \u001b[0mnp\u001b[0m\u001b[0;34m.\u001b[0m\u001b[0mnumber\u001b[0m\u001b[0;34m)\u001b[0m\u001b[0;34m:\u001b[0m\u001b[0;34m\u001b[0m\u001b[0;34m\u001b[0m\u001b[0m\n\u001b[0m\u001b[1;32m    116\u001b[0m                 \u001b[0;31m# this attribute is numeric; no remapping needed\u001b[0m\u001b[0;34m\u001b[0m\u001b[0;34m\u001b[0m\u001b[0m\n\u001b[1;32m    117\u001b[0m                 \u001b[0mprivileged_values\u001b[0m \u001b[0;34m=\u001b[0m \u001b[0mvals\u001b[0m\u001b[0;34m\u001b[0m\u001b[0;34m\u001b[0m\u001b[0m\n",
            "\u001b[0;32m/usr/local/lib/python3.11/dist-packages/pandas/core/frame.py\u001b[0m in \u001b[0;36m__getitem__\u001b[0;34m(self, key)\u001b[0m\n\u001b[1;32m   4100\u001b[0m             \u001b[0;32mif\u001b[0m \u001b[0mself\u001b[0m\u001b[0;34m.\u001b[0m\u001b[0mcolumns\u001b[0m\u001b[0;34m.\u001b[0m\u001b[0mnlevels\u001b[0m \u001b[0;34m>\u001b[0m \u001b[0;36m1\u001b[0m\u001b[0;34m:\u001b[0m\u001b[0;34m\u001b[0m\u001b[0;34m\u001b[0m\u001b[0m\n\u001b[1;32m   4101\u001b[0m                 \u001b[0;32mreturn\u001b[0m \u001b[0mself\u001b[0m\u001b[0;34m.\u001b[0m\u001b[0m_getitem_multilevel\u001b[0m\u001b[0;34m(\u001b[0m\u001b[0mkey\u001b[0m\u001b[0;34m)\u001b[0m\u001b[0;34m\u001b[0m\u001b[0;34m\u001b[0m\u001b[0m\n\u001b[0;32m-> 4102\u001b[0;31m             \u001b[0mindexer\u001b[0m \u001b[0;34m=\u001b[0m \u001b[0mself\u001b[0m\u001b[0;34m.\u001b[0m\u001b[0mcolumns\u001b[0m\u001b[0;34m.\u001b[0m\u001b[0mget_loc\u001b[0m\u001b[0;34m(\u001b[0m\u001b[0mkey\u001b[0m\u001b[0;34m)\u001b[0m\u001b[0;34m\u001b[0m\u001b[0;34m\u001b[0m\u001b[0m\n\u001b[0m\u001b[1;32m   4103\u001b[0m             \u001b[0;32mif\u001b[0m \u001b[0mis_integer\u001b[0m\u001b[0;34m(\u001b[0m\u001b[0mindexer\u001b[0m\u001b[0;34m)\u001b[0m\u001b[0;34m:\u001b[0m\u001b[0;34m\u001b[0m\u001b[0;34m\u001b[0m\u001b[0m\n\u001b[1;32m   4104\u001b[0m                 \u001b[0mindexer\u001b[0m \u001b[0;34m=\u001b[0m \u001b[0;34m[\u001b[0m\u001b[0mindexer\u001b[0m\u001b[0;34m]\u001b[0m\u001b[0;34m\u001b[0m\u001b[0;34m\u001b[0m\u001b[0m\n",
            "\u001b[0;32m/usr/local/lib/python3.11/dist-packages/pandas/core/indexes/base.py\u001b[0m in \u001b[0;36mget_loc\u001b[0;34m(self, key)\u001b[0m\n\u001b[1;32m   3810\u001b[0m             ):\n\u001b[1;32m   3811\u001b[0m                 \u001b[0;32mraise\u001b[0m \u001b[0mInvalidIndexError\u001b[0m\u001b[0;34m(\u001b[0m\u001b[0mkey\u001b[0m\u001b[0;34m)\u001b[0m\u001b[0;34m\u001b[0m\u001b[0;34m\u001b[0m\u001b[0m\n\u001b[0;32m-> 3812\u001b[0;31m             \u001b[0;32mraise\u001b[0m \u001b[0mKeyError\u001b[0m\u001b[0;34m(\u001b[0m\u001b[0mkey\u001b[0m\u001b[0;34m)\u001b[0m \u001b[0;32mfrom\u001b[0m \u001b[0merr\u001b[0m\u001b[0;34m\u001b[0m\u001b[0;34m\u001b[0m\u001b[0m\n\u001b[0m\u001b[1;32m   3813\u001b[0m         \u001b[0;32mexcept\u001b[0m \u001b[0mTypeError\u001b[0m\u001b[0;34m:\u001b[0m\u001b[0;34m\u001b[0m\u001b[0;34m\u001b[0m\u001b[0m\n\u001b[1;32m   3814\u001b[0m             \u001b[0;31m# If we have a listlike key, _check_indexing_error will raise\u001b[0m\u001b[0;34m\u001b[0m\u001b[0;34m\u001b[0m\u001b[0m\n",
            "\u001b[0;31mKeyError\u001b[0m: 'race'"
          ]
        }
      ]
    },
    {
      "cell_type": "markdown",
      "metadata": {
        "id": "2a242124"
      },
      "source": [
        "**Reasoning**:\n",
        "The previous code failed because the 'race' column was not found when creating the `StandardDataset`. This likely happened because I specified 'race' in `categorical_features` which caused it to be one-hot encoded and the original 'race' column was dropped. To fix this, I will first filter the DataFrame to only include 'African-American' and 'Caucasian' races as these are the most compared groups in COMPAS analysis, which will simplify the protected attribute. Then, I will create the `StandardDataset` again, but this time I will not include 'race' in the `categorical_features` list since it is the protected attribute.\n",
        "\n"
      ]
    },
    {
      "cell_type": "code",
      "metadata": {
        "colab": {
          "base_uri": "https://localhost:8080/"
        },
        "id": "b-1Sd8ymMcbr",
        "outputId": "800df45b-3688-48bd-b682-d1c3a7ccad4e"
      },
      "source": [
        "from aif360.datasets import StandardDataset\n",
        "\n",
        "# Filter the DataFrame to include only 'African-American' and 'Caucasian' races\n",
        "df_filtered = df[df['race'].isin(['African-American', 'Caucasian'])].copy()\n",
        "\n",
        "# Define protected attribute and target variable\n",
        "protected_attribute = 'race'\n",
        "target_variable = 'two_year_recid'\n",
        "\n",
        "# Create the StandardDataset\n",
        "dataset = StandardDataset(\n",
        "    df_filtered,\n",
        "    label_name=target_variable,\n",
        "    favorable_classes=[0],\n",
        "    protected_attribute_names=[protected_attribute],\n",
        "    privileged_classes=[['Caucasian']],\n",
        "    categorical_features=['sex', 'c_charge_degree', 'c_charge_desc']\n",
        ")\n",
        "\n",
        "print(dataset)"
      ],
      "execution_count": 10,
      "outputs": [
        {
          "output_type": "stream",
          "name": "stdout",
          "text": [
            "               instance weights features                                    \\\n",
            "                                         protected attribute                 \n",
            "                                     age                race juv_fel_count   \n",
            "instance names                                                               \n",
            "1                           1.0     34.0                 0.0           0.0   \n",
            "2                           1.0     24.0                 0.0           0.0   \n",
            "3                           1.0     23.0                 0.0           0.0   \n",
            "6                           1.0     41.0                 1.0           0.0   \n",
            "8                           1.0     39.0                 1.0           0.0   \n",
            "...                         ...      ...                 ...           ...   \n",
            "7207                        1.0     30.0                 0.0           0.0   \n",
            "7208                        1.0     20.0                 0.0           0.0   \n",
            "7209                        1.0     23.0                 0.0           0.0   \n",
            "7210                        1.0     23.0                 0.0           0.0   \n",
            "7212                        1.0     33.0                 0.0           0.0   \n",
            "\n",
            "                                                                         \\\n",
            "                                                                          \n",
            "               juv_misd_count juv_other_count priors_count decile_score   \n",
            "instance names                                                            \n",
            "1                         0.0             0.0          0.0          3.0   \n",
            "2                         0.0             1.0          4.0          4.0   \n",
            "3                         1.0             0.0          1.0          8.0   \n",
            "6                         0.0             0.0         14.0          6.0   \n",
            "8                         0.0             0.0          0.0          1.0   \n",
            "...                       ...             ...          ...          ...   \n",
            "7207                      0.0             0.0          0.0          2.0   \n",
            "7208                      0.0             0.0          0.0          9.0   \n",
            "7209                      0.0             0.0          0.0          7.0   \n",
            "7210                      0.0             0.0          0.0          3.0   \n",
            "7212                      0.0             0.0          3.0          2.0   \n",
            "\n",
            "                                    ...  \\\n",
            "                                    ...   \n",
            "               sex=Female sex=Male  ...   \n",
            "instance names                      ...   \n",
            "1                     0.0      1.0  ...   \n",
            "2                     0.0      1.0  ...   \n",
            "3                     0.0      1.0  ...   \n",
            "6                     0.0      1.0  ...   \n",
            "8                     1.0      0.0  ...   \n",
            "...                   ...      ...  ...   \n",
            "7207                  0.0      1.0  ...   \n",
            "7208                  0.0      1.0  ...   \n",
            "7209                  0.0      1.0  ...   \n",
            "7210                  0.0      1.0  ...   \n",
            "7212                  1.0      0.0  ...   \n",
            "\n",
            "                                                             \\\n",
            "                                                              \n",
            "               c_charge_desc=Viol Injunct Domestic Violence   \n",
            "instance names                                                \n",
            "1                                                       0.0   \n",
            "2                                                       0.0   \n",
            "3                                                       0.0   \n",
            "6                                                       0.0   \n",
            "8                                                       0.0   \n",
            "...                                                     ...   \n",
            "7207                                                    0.0   \n",
            "7208                                                    0.0   \n",
            "7209                                                    0.0   \n",
            "7210                                                    0.0   \n",
            "7212                                                    0.0   \n",
            "\n",
            "                                                             \\\n",
            "                                                              \n",
            "               c_charge_desc=Viol Injunction Protect Dom Vi   \n",
            "instance names                                                \n",
            "1                                                       0.0   \n",
            "2                                                       0.0   \n",
            "3                                                       0.0   \n",
            "6                                                       0.0   \n",
            "8                                                       0.0   \n",
            "...                                                     ...   \n",
            "7207                                                    0.0   \n",
            "7208                                                    0.0   \n",
            "7209                                                    0.0   \n",
            "7210                                                    0.0   \n",
            "7212                                                    0.0   \n",
            "\n",
            "                                                             \\\n",
            "                                                              \n",
            "               c_charge_desc=Viol Pretrial Release Dom Viol   \n",
            "instance names                                                \n",
            "1                                                       0.0   \n",
            "2                                                       0.0   \n",
            "3                                                       0.0   \n",
            "6                                                       0.0   \n",
            "8                                                       0.0   \n",
            "...                                                     ...   \n",
            "7207                                                    0.0   \n",
            "7208                                                    0.0   \n",
            "7209                                                    0.0   \n",
            "7210                                                    0.0   \n",
            "7212                                                    0.0   \n",
            "\n",
            "                                                           \\\n",
            "                                                            \n",
            "               c_charge_desc=Viol Prot Injunc Repeat Viol   \n",
            "instance names                                              \n",
            "1                                                     0.0   \n",
            "2                                                     0.0   \n",
            "3                                                     0.0   \n",
            "6                                                     0.0   \n",
            "8                                                     0.0   \n",
            "...                                                   ...   \n",
            "7207                                                  0.0   \n",
            "7208                                                  0.0   \n",
            "7209                                                  0.0   \n",
            "7210                                                  0.0   \n",
            "7212                                                  0.0   \n",
            "\n",
            "                                                             \\\n",
            "                                                              \n",
            "               c_charge_desc=Violation License Restrictions   \n",
            "instance names                                                \n",
            "1                                                       0.0   \n",
            "2                                                       0.0   \n",
            "3                                                       0.0   \n",
            "6                                                       0.0   \n",
            "8                                                       0.0   \n",
            "...                                                     ...   \n",
            "7207                                                    0.0   \n",
            "7208                                                    0.0   \n",
            "7209                                                    0.0   \n",
            "7210                                                    0.0   \n",
            "7212                                                    0.0   \n",
            "\n",
            "                                                            \\\n",
            "                                                             \n",
            "               c_charge_desc=Violation Of Boater Safety Id   \n",
            "instance names                                               \n",
            "1                                                      0.0   \n",
            "2                                                      0.0   \n",
            "3                                                      0.0   \n",
            "6                                                      0.0   \n",
            "8                                                      0.0   \n",
            "...                                                    ...   \n",
            "7207                                                   0.0   \n",
            "7208                                                   0.0   \n",
            "7209                                                   0.0   \n",
            "7210                                                   0.0   \n",
            "7212                                                   0.0   \n",
            "\n",
            "                                                                                   \\\n",
            "                                                                                    \n",
            "               c_charge_desc=Violation of Injunction Order/Stalking/Cyberstalking   \n",
            "instance names                                                                      \n",
            "1                                                             0.0                   \n",
            "2                                                             0.0                   \n",
            "3                                                             0.0                   \n",
            "6                                                             0.0                   \n",
            "8                                                             0.0                   \n",
            "...                                                           ...                   \n",
            "7207                                                          0.0                   \n",
            "7208                                                          0.0                   \n",
            "7209                                                          0.0                   \n",
            "7210                                                          0.0                   \n",
            "7212                                                          0.0                   \n",
            "\n",
            "                                                                            \\\n",
            "                                                                             \n",
            "               c_charge_desc=Voyeurism c_charge_desc=arrest case no charge   \n",
            "instance names                                                               \n",
            "1                                  0.0                                 0.0   \n",
            "2                                  0.0                                 0.0   \n",
            "3                                  0.0                                 0.0   \n",
            "6                                  0.0                                 0.0   \n",
            "8                                  0.0                                 0.0   \n",
            "...                                ...                                 ...   \n",
            "7207                               0.0                                 0.0   \n",
            "7208                               0.0                                 0.0   \n",
            "7209                               0.0                                 0.0   \n",
            "7210                               0.0                                 0.0   \n",
            "7212                               0.0                                 0.0   \n",
            "\n",
            "               labels  \n",
            "                       \n",
            "                       \n",
            "instance names         \n",
            "1                 1.0  \n",
            "2                 1.0  \n",
            "3                 0.0  \n",
            "6                 1.0  \n",
            "8                 0.0  \n",
            "...               ...  \n",
            "7207              1.0  \n",
            "7208              0.0  \n",
            "7209              0.0  \n",
            "7210              0.0  \n",
            "7212              0.0  \n",
            "\n",
            "[6129 rows x 423 columns]\n"
          ]
        }
      ]
    },
    {
      "cell_type": "markdown",
      "metadata": {
        "id": "604a4f7d"
      },
      "source": [
        "## Define the metric\n",
        "\n",
        "### Subtask:\n",
        "Define the fairness metric to be used for the analysis, such as disparate impact or equal opportunity difference.\n"
      ]
    },
    {
      "cell_type": "markdown",
      "metadata": {
        "id": "a995b1b5"
      },
      "source": [
        "**Reasoning**:\n",
        "To analyze the fairness of the COMPAS dataset, I will first import the `ClassificationMetric` from the `aif360` library. Then, I will instantiate this metric with the prepared `StandardDataset`, defining the unprivileged group as African-American and the privileged group as Caucasian. Finally, I will calculate and print the disparate impact to assess the racial bias in the dataset as per the instructions.\n",
        "\n"
      ]
    },
    {
      "cell_type": "code",
      "metadata": {
        "colab": {
          "base_uri": "https://localhost:8080/",
          "height": 343
        },
        "id": "1493f885",
        "outputId": "89e7f2ba-0fbf-49f5-8515-3aaba1bafc43"
      },
      "source": [
        "from aif360.metrics import ClassificationMetric\n",
        "\n",
        "# Define privileged and unprivileged groups\n",
        "privileged_groups = [{'race': 1}]  # Caucasian\n",
        "unprivileged_groups = [{'race': 0}] # African-American\n",
        "\n",
        "# Create a ClassificationMetric object\n",
        "metric = ClassificationMetric(dataset,\n",
        "                              unprivileged_groups=unprivileged_groups,\n",
        "                              privileged_groups=privileged_groups)\n",
        "\n",
        "# Calculate disparate impact\n",
        "disparate_impact = metric.disparate_impact()\n",
        "\n",
        "# Print the result\n",
        "print(f\"Disparate Impact: {disparate_impact}\")"
      ],
      "execution_count": 11,
      "outputs": [
        {
          "output_type": "stream",
          "name": "stderr",
          "text": [
            "WARNING:root:No module named 'fairlearn': ExponentiatedGradientReduction will be unavailable. To install, run:\n",
            "pip install 'aif360[Reductions]'\n",
            "WARNING:root:No module named 'fairlearn': GridSearchReduction will be unavailable. To install, run:\n",
            "pip install 'aif360[Reductions]'\n",
            "WARNING:root:No module named 'inFairness': SenSeI and SenSR will be unavailable. To install, run:\n",
            "pip install 'aif360[inFairness]'\n",
            "WARNING:root:No module named 'fairlearn': GridSearchReduction will be unavailable. To install, run:\n",
            "pip install 'aif360[Reductions]'\n"
          ]
        },
        {
          "output_type": "error",
          "ename": "TypeError",
          "evalue": "ClassificationMetric.__init__() missing 1 required positional argument: 'classified_dataset'",
          "traceback": [
            "\u001b[0;31m---------------------------------------------------------------------------\u001b[0m",
            "\u001b[0;31mTypeError\u001b[0m                                 Traceback (most recent call last)",
            "\u001b[0;32m/tmp/ipython-input-2432518297.py\u001b[0m in \u001b[0;36m<cell line: 0>\u001b[0;34m()\u001b[0m\n\u001b[1;32m      6\u001b[0m \u001b[0;34m\u001b[0m\u001b[0m\n\u001b[1;32m      7\u001b[0m \u001b[0;31m# Create a ClassificationMetric object\u001b[0m\u001b[0;34m\u001b[0m\u001b[0;34m\u001b[0m\u001b[0m\n\u001b[0;32m----> 8\u001b[0;31m metric = ClassificationMetric(dataset,\n\u001b[0m\u001b[1;32m      9\u001b[0m                               \u001b[0munprivileged_groups\u001b[0m\u001b[0;34m=\u001b[0m\u001b[0munprivileged_groups\u001b[0m\u001b[0;34m,\u001b[0m\u001b[0;34m\u001b[0m\u001b[0;34m\u001b[0m\u001b[0m\n\u001b[1;32m     10\u001b[0m                               privileged_groups=privileged_groups)\n",
            "\u001b[0;31mTypeError\u001b[0m: ClassificationMetric.__init__() missing 1 required positional argument: 'classified_dataset'"
          ]
        }
      ]
    },
    {
      "cell_type": "markdown",
      "metadata": {
        "id": "0f4e9613"
      },
      "source": [
        "**Reasoning**:\n",
        "The previous attempt to create a `ClassificationMetric` object failed because it requires a `classified_dataset` argument, which represents the dataset with predictions. The `StandardDataset` object `dataset` only contains the original labels. To fix this, I need to create a classified dataset. Since the goal is to evaluate the fairness of the COMPAS decile scores, I will use the `decile_score` as the prediction. I will first create a copy of the `dataset` and then use the `decile_score` to create the `scores` and `labels` attributes in the copied dataset, which will represent the predictions. Finally, I will instantiate the `ClassificationMetric` with the original dataset and this new classified dataset, and then calculate and print the disparate impact.\n",
        "\n"
      ]
    },
    {
      "cell_type": "code",
      "metadata": {
        "colab": {
          "base_uri": "https://localhost:8080/"
        },
        "id": "NZdm7r5NMlsE",
        "outputId": "402e8643-6e74-4580-ac4e-e30c29ad9d1e"
      },
      "source": [
        "from aif360.metrics import ClassificationMetric\n",
        "\n",
        "# The error indicates that ClassificationMetric requires a classified_dataset.\n",
        "# The 'dataset' object we created earlier is an unclassified dataset.\n",
        "# We need to create a classified dataset from the original one, using the decile_score as the prediction.\n",
        "\n",
        "# Let's create a classified dataset.\n",
        "# First, a copy of the original dataset is needed.\n",
        "dataset_classified = dataset.copy()\n",
        "\n",
        "# The 'decile_score' is what we are evaluating. We need to set this as the prediction.\n",
        "# AIF360 expects predictions in the 'scores' attribute of the dataset.\n",
        "# Let's assume a higher decile score means a higher likelihood of recidivism (unfavorable outcome).\n",
        "# We can binarize the decile_score to represent a prediction of recidivism or not.\n",
        "# A common threshold is 5, but for this analysis, let's use the decile score directly as the score.\n",
        "# The 'scores' attribute should be a 2D array with shape (n_samples, n_classes).\n",
        "# In our case, it's a binary classification (recidivism or not), so we can have one column.\n",
        "dataset_classified.scores = dataset.scores\n",
        "\n",
        "# We also need to binarize the scores to get the predicted labels.\n",
        "# Let's use a threshold of 5 (i.e., decile_score > 4 is a prediction of recidivism).\n",
        "# Favorable label is 0 (no recidivism), unfavorable is 1 (recidivism).\n",
        "# So, if decile_score > 4, predicted label is 1, otherwise 0.\n",
        "# The 'labels' in the classified dataset should be the predicted labels.\n",
        "import numpy as np\n",
        "dataset_classified.labels = np.where(dataset.scores > 4, 1, 0)\n",
        "\n",
        "\n",
        "# Define privileged and unprivileged groups\n",
        "privileged_groups = [{'race': 1}]  # Caucasian\n",
        "unprivileged_groups = [{'race': 0}] # African-American\n",
        "\n",
        "# Create a ClassificationMetric object\n",
        "metric = ClassificationMetric(dataset,\n",
        "                              dataset_classified,\n",
        "                              unprivileged_groups=unprivileged_groups,\n",
        "                              privileged_groups=privileged_groups)\n",
        "\n",
        "# Calculate disparate impact\n",
        "disparate_impact = metric.disparate_impact()\n",
        "\n",
        "# Print the result\n",
        "print(f\"Disparate Impact: {disparate_impact}\")"
      ],
      "execution_count": 12,
      "outputs": [
        {
          "output_type": "stream",
          "name": "stdout",
          "text": [
            "Disparate Impact: 1.0\n"
          ]
        }
      ]
    },
    {
      "cell_type": "markdown",
      "metadata": {
        "id": "6959125f"
      },
      "source": [
        "## Perform the bias audit\n",
        "\n",
        "### Subtask:\n",
        "Perform the bias audit using the defined fairness metric (disparate impact) and analyze the dataset for bias.\n"
      ]
    },
    {
      "cell_type": "markdown",
      "metadata": {
        "id": "200bcc0d"
      },
      "source": [
        "**Reasoning**:\n",
        "Calculate and print other relevant fairness metrics using the ClassificationMetric object.\n",
        "\n"
      ]
    },
    {
      "cell_type": "code",
      "metadata": {
        "colab": {
          "base_uri": "https://localhost:8080/"
        },
        "id": "7e9cbe19",
        "outputId": "728c8600-7d80-442d-a753-839e0e5f3500"
      },
      "source": [
        "# Calculate other relevant fairness metrics\n",
        "equal_opportunity_difference = metric.equal_opportunity_difference()\n",
        "average_abs_odds_difference = metric.average_abs_odds_difference()\n",
        "theil_index = metric.theil_index()\n",
        "\n",
        "# Print the values of these calculated fairness metrics\n",
        "print(f\"Equal Opportunity Difference: {equal_opportunity_difference}\")\n",
        "print(f\"Average Absolute Odds Difference: {average_abs_odds_difference}\")\n",
        "print(f\"Theil Index: {theil_index}\")"
      ],
      "execution_count": 13,
      "outputs": [
        {
          "output_type": "stream",
          "name": "stdout",
          "text": [
            "Equal Opportunity Difference: 0.0\n",
            "Average Absolute Odds Difference: 0.0\n",
            "Theil Index: 0.05812085925953562\n"
          ]
        }
      ]
    },
    {
      "cell_type": "markdown",
      "metadata": {
        "id": "b5ed4f9e"
      },
      "source": [
        "## Generate visualizations\n",
        "\n",
        "### Subtask:\n",
        "Create visualizations to illustrate the racial bias in the risk scores, such as plots showing the disparity in false positive rates between different racial groups.\n"
      ]
    },
    {
      "cell_type": "markdown",
      "metadata": {
        "id": "3c788d7c"
      },
      "source": [
        "**Reasoning**:\n",
        "Calculate and visualize the false positive rate disparity between the two groups.\n",
        "\n"
      ]
    },
    {
      "cell_type": "code",
      "metadata": {
        "colab": {
          "base_uri": "https://localhost:8080/",
          "height": 326
        },
        "id": "71e678bf",
        "outputId": "43d9827b-e79c-4935-bb56-38aaf9b07128"
      },
      "source": [
        "import matplotlib.pyplot as plt\n",
        "\n",
        "# Calculate false positive rates\n",
        "# False positive rate = False positives / (False positives + True negatives)\n",
        "fpr_unprivileged = metric.false_positive_rate(sensitive_attribute=unprivileged_groups)\n",
        "fpr_privileged = metric.false_positive_rate(sensitive_attribute=privileged_groups)\n",
        "\n",
        "print(f\"False Positive Rate (African-American): {fpr_unprivileged}\")\n",
        "print(f\"False Positive Rate (Caucasian): {fpr_privileged}\")\n",
        "\n",
        "# Create a bar chart\n",
        "labels = ['African-American', 'Caucasian']\n",
        "fpr_values = [fpr_unprivileged, fpr_privileged]\n",
        "\n",
        "fig, ax = plt.subplots(figsize=(6, 4))\n",
        "ax.bar(labels, fpr_values, color=['skyblue', 'lightcoral'])\n",
        "\n",
        "# Add labels and title\n",
        "ax.set_ylabel('False Positive Rate')\n",
        "ax.set_title('Disparity in False Positive Rates')\n",
        "\n",
        "# Display the plot\n",
        "plt.show()"
      ],
      "execution_count": 14,
      "outputs": [
        {
          "output_type": "error",
          "ename": "TypeError",
          "evalue": "ClassificationMetric.false_positive_rate() got an unexpected keyword argument 'sensitive_attribute'",
          "traceback": [
            "\u001b[0;31m---------------------------------------------------------------------------\u001b[0m",
            "\u001b[0;31mTypeError\u001b[0m                                 Traceback (most recent call last)",
            "\u001b[0;32m/tmp/ipython-input-4257098254.py\u001b[0m in \u001b[0;36m<cell line: 0>\u001b[0;34m()\u001b[0m\n\u001b[1;32m      3\u001b[0m \u001b[0;31m# Calculate false positive rates\u001b[0m\u001b[0;34m\u001b[0m\u001b[0;34m\u001b[0m\u001b[0m\n\u001b[1;32m      4\u001b[0m \u001b[0;31m# False positive rate = False positives / (False positives + True negatives)\u001b[0m\u001b[0;34m\u001b[0m\u001b[0;34m\u001b[0m\u001b[0m\n\u001b[0;32m----> 5\u001b[0;31m \u001b[0mfpr_unprivileged\u001b[0m \u001b[0;34m=\u001b[0m \u001b[0mmetric\u001b[0m\u001b[0;34m.\u001b[0m\u001b[0mfalse_positive_rate\u001b[0m\u001b[0;34m(\u001b[0m\u001b[0msensitive_attribute\u001b[0m\u001b[0;34m=\u001b[0m\u001b[0munprivileged_groups\u001b[0m\u001b[0;34m)\u001b[0m\u001b[0;34m\u001b[0m\u001b[0;34m\u001b[0m\u001b[0m\n\u001b[0m\u001b[1;32m      6\u001b[0m \u001b[0mfpr_privileged\u001b[0m \u001b[0;34m=\u001b[0m \u001b[0mmetric\u001b[0m\u001b[0;34m.\u001b[0m\u001b[0mfalse_positive_rate\u001b[0m\u001b[0;34m(\u001b[0m\u001b[0msensitive_attribute\u001b[0m\u001b[0;34m=\u001b[0m\u001b[0mprivileged_groups\u001b[0m\u001b[0;34m)\u001b[0m\u001b[0;34m\u001b[0m\u001b[0;34m\u001b[0m\u001b[0m\n\u001b[1;32m      7\u001b[0m \u001b[0;34m\u001b[0m\u001b[0m\n",
            "\u001b[0;32m/usr/local/lib/python3.11/dist-packages/aif360/metrics/metric.py\u001b[0m in \u001b[0;36mwrapper\u001b[0;34m(*args, **kwargs)\u001b[0m\n\u001b[1;32m     31\u001b[0m         \u001b[0mkey\u001b[0m \u001b[0;34m=\u001b[0m \u001b[0m_make_key\u001b[0m\u001b[0;34m(\u001b[0m\u001b[0margs\u001b[0m\u001b[0;34m,\u001b[0m \u001b[0mkwargs\u001b[0m\u001b[0;34m,\u001b[0m \u001b[0munhashable\u001b[0m\u001b[0;34m)\u001b[0m\u001b[0;34m\u001b[0m\u001b[0;34m\u001b[0m\u001b[0m\n\u001b[1;32m     32\u001b[0m         \u001b[0;32mif\u001b[0m \u001b[0mkey\u001b[0m \u001b[0;32mis\u001b[0m \u001b[0munhashable\u001b[0m\u001b[0;34m:\u001b[0m\u001b[0;34m\u001b[0m\u001b[0;34m\u001b[0m\u001b[0m\n\u001b[0;32m---> 33\u001b[0;31m             \u001b[0;32mreturn\u001b[0m \u001b[0mfunc\u001b[0m\u001b[0;34m(\u001b[0m\u001b[0;34m*\u001b[0m\u001b[0margs\u001b[0m\u001b[0;34m,\u001b[0m \u001b[0;34m**\u001b[0m\u001b[0mkwargs\u001b[0m\u001b[0;34m)\u001b[0m\u001b[0;34m\u001b[0m\u001b[0;34m\u001b[0m\u001b[0m\n\u001b[0m\u001b[1;32m     34\u001b[0m         \u001b[0mresult\u001b[0m \u001b[0;34m=\u001b[0m \u001b[0mcache\u001b[0m\u001b[0;34m.\u001b[0m\u001b[0mget\u001b[0m\u001b[0;34m(\u001b[0m\u001b[0mkey\u001b[0m\u001b[0;34m,\u001b[0m \u001b[0msentinal\u001b[0m\u001b[0;34m)\u001b[0m\u001b[0;34m\u001b[0m\u001b[0;34m\u001b[0m\u001b[0m\n\u001b[1;32m     35\u001b[0m         \u001b[0;32mif\u001b[0m \u001b[0mresult\u001b[0m \u001b[0;32mis\u001b[0m \u001b[0;32mnot\u001b[0m \u001b[0msentinal\u001b[0m\u001b[0;34m:\u001b[0m\u001b[0;34m\u001b[0m\u001b[0;34m\u001b[0m\u001b[0m\n",
            "\u001b[0;31mTypeError\u001b[0m: ClassificationMetric.false_positive_rate() got an unexpected keyword argument 'sensitive_attribute'"
          ]
        }
      ]
    },
    {
      "cell_type": "markdown",
      "metadata": {
        "id": "464d490a"
      },
      "source": [
        "**Reasoning**:\n",
        "Correct the code by removing the `sensitive_attribute` argument from the `false_positive_rate` method call.\n",
        "\n"
      ]
    },
    {
      "cell_type": "code",
      "metadata": {
        "colab": {
          "base_uri": "https://localhost:8080/",
          "height": 207
        },
        "id": "FkAYKyQLMwK4",
        "outputId": "d77c2257-2869-4e3f-af2e-981aee7d3cbe"
      },
      "source": [
        "import matplotlib.pyplot as plt\n",
        "\n",
        "# The false_positive_rate method does not take a sensitive_attribute argument.\n",
        "# It returns the rate for the whole dataset. To get the rate for each group,\n",
        "# we need to filter the dataset and create new ClassificationMetric objects.\n",
        "\n",
        "# Privileged group\n",
        "dataset_priv = dataset.subset(privileged_groups[0].keys(), privileged_groups[0].values())\n",
        "dataset_classified_priv = dataset_classified.subset(privileged_groups[0].keys(), privileged_groups[0].values())\n",
        "metric_priv = ClassificationMetric(dataset_priv, dataset_classified_priv)\n",
        "fpr_privileged = metric_priv.false_positive_rate()\n",
        "\n",
        "# Unprivileged group\n",
        "dataset_unpriv = dataset.subset(unprivileged_groups[0].keys(), unprivileged_groups[0].values())\n",
        "dataset_classified_unpriv = dataset_classified.subset(unprivileged_groups[0].keys(), unprivileged_groups[0].values())\n",
        "metric_unpriv = ClassificationMetric(dataset_unpriv, dataset_classified_unpriv)\n",
        "fpr_unprivileged = metric_unpriv.false_positive_rate()\n",
        "\n",
        "print(f\"False Positive Rate (African-American): {fpr_unprivileged}\")\n",
        "print(f\"False Positive Rate (Caucasian): {fpr_privileged}\")\n",
        "\n",
        "# Create a bar chart\n",
        "labels = ['African-American', 'Caucasian']\n",
        "fpr_values = [fpr_unprivileged, fpr_privileged]\n",
        "\n",
        "fig, ax = plt.subplots(figsize=(6, 4))\n",
        "ax.bar(labels, fpr_values, color=['skyblue', 'lightcoral'])\n",
        "\n",
        "# Add labels and title\n",
        "ax.set_ylabel('False Positive Rate')\n",
        "ax.set_title('Disparity in False Positive Rates')\n",
        "\n",
        "# Display the plot\n",
        "plt.show()"
      ],
      "execution_count": 15,
      "outputs": [
        {
          "output_type": "error",
          "ename": "TypeError",
          "evalue": "StructuredDataset.subset() takes 2 positional arguments but 3 were given",
          "traceback": [
            "\u001b[0;31m---------------------------------------------------------------------------\u001b[0m",
            "\u001b[0;31mTypeError\u001b[0m                                 Traceback (most recent call last)",
            "\u001b[0;32m/tmp/ipython-input-281563761.py\u001b[0m in \u001b[0;36m<cell line: 0>\u001b[0;34m()\u001b[0m\n\u001b[1;32m      6\u001b[0m \u001b[0;34m\u001b[0m\u001b[0m\n\u001b[1;32m      7\u001b[0m \u001b[0;31m# Privileged group\u001b[0m\u001b[0;34m\u001b[0m\u001b[0;34m\u001b[0m\u001b[0m\n\u001b[0;32m----> 8\u001b[0;31m \u001b[0mdataset_priv\u001b[0m \u001b[0;34m=\u001b[0m \u001b[0mdataset\u001b[0m\u001b[0;34m.\u001b[0m\u001b[0msubset\u001b[0m\u001b[0;34m(\u001b[0m\u001b[0mprivileged_groups\u001b[0m\u001b[0;34m[\u001b[0m\u001b[0;36m0\u001b[0m\u001b[0;34m]\u001b[0m\u001b[0;34m.\u001b[0m\u001b[0mkeys\u001b[0m\u001b[0;34m(\u001b[0m\u001b[0;34m)\u001b[0m\u001b[0;34m,\u001b[0m \u001b[0mprivileged_groups\u001b[0m\u001b[0;34m[\u001b[0m\u001b[0;36m0\u001b[0m\u001b[0;34m]\u001b[0m\u001b[0;34m.\u001b[0m\u001b[0mvalues\u001b[0m\u001b[0;34m(\u001b[0m\u001b[0;34m)\u001b[0m\u001b[0;34m)\u001b[0m\u001b[0;34m\u001b[0m\u001b[0;34m\u001b[0m\u001b[0m\n\u001b[0m\u001b[1;32m      9\u001b[0m \u001b[0mdataset_classified_priv\u001b[0m \u001b[0;34m=\u001b[0m \u001b[0mdataset_classified\u001b[0m\u001b[0;34m.\u001b[0m\u001b[0msubset\u001b[0m\u001b[0;34m(\u001b[0m\u001b[0mprivileged_groups\u001b[0m\u001b[0;34m[\u001b[0m\u001b[0;36m0\u001b[0m\u001b[0;34m]\u001b[0m\u001b[0;34m.\u001b[0m\u001b[0mkeys\u001b[0m\u001b[0;34m(\u001b[0m\u001b[0;34m)\u001b[0m\u001b[0;34m,\u001b[0m \u001b[0mprivileged_groups\u001b[0m\u001b[0;34m[\u001b[0m\u001b[0;36m0\u001b[0m\u001b[0;34m]\u001b[0m\u001b[0;34m.\u001b[0m\u001b[0mvalues\u001b[0m\u001b[0;34m(\u001b[0m\u001b[0;34m)\u001b[0m\u001b[0;34m)\u001b[0m\u001b[0;34m\u001b[0m\u001b[0;34m\u001b[0m\u001b[0m\n\u001b[1;32m     10\u001b[0m \u001b[0mmetric_priv\u001b[0m \u001b[0;34m=\u001b[0m \u001b[0mClassificationMetric\u001b[0m\u001b[0;34m(\u001b[0m\u001b[0mdataset_priv\u001b[0m\u001b[0;34m,\u001b[0m \u001b[0mdataset_classified_priv\u001b[0m\u001b[0;34m)\u001b[0m\u001b[0;34m\u001b[0m\u001b[0;34m\u001b[0m\u001b[0m\n",
            "\u001b[0;31mTypeError\u001b[0m: StructuredDataset.subset() takes 2 positional arguments but 3 were given"
          ]
        }
      ]
    },
    {
      "cell_type": "markdown",
      "metadata": {
        "id": "f6d3020d"
      },
      "source": [
        "**Reasoning**:\n",
        "Correct the `subset` method call to pass the `feature` and `value` as separate arguments.\n",
        "\n"
      ]
    },
    {
      "cell_type": "code",
      "metadata": {
        "colab": {
          "base_uri": "https://localhost:8080/",
          "height": 207
        },
        "id": "M9tjq3R6MyOY",
        "outputId": "d2274151-f9c4-4fbf-e991-9ec2d96dd827"
      },
      "source": [
        "import matplotlib.pyplot as plt\n",
        "\n",
        "# The subset method expects the feature name and value as separate arguments.\n",
        "# We need to extract the key and value from the dictionary before passing them.\n",
        "\n",
        "# Privileged group\n",
        "priv_feature, priv_value = list(privileged_groups[0].items())[0]\n",
        "dataset_priv = dataset.subset(priv_feature, priv_value)\n",
        "dataset_classified_priv = dataset_classified.subset(priv_feature, priv_value)\n",
        "metric_priv = ClassificationMetric(dataset_priv, dataset_classified_priv)\n",
        "fpr_privileged = metric_priv.false_positive_rate()\n",
        "\n",
        "# Unprivileged group\n",
        "unpriv_feature, unpriv_value = list(unprivileged_groups[0].items())[0]\n",
        "dataset_unpriv = dataset.subset(unpriv_feature, unpriv_value)\n",
        "dataset_classified_unpriv = dataset_classified.subset(unpriv_feature, unpriv_value)\n",
        "metric_unpriv = ClassificationMetric(dataset_unpriv, dataset_classified_unpriv)\n",
        "fpr_unprivileged = metric_unpriv.false_positive_rate()\n",
        "\n",
        "print(f\"False Positive Rate (African-American): {fpr_unprivileged}\")\n",
        "print(f\"False Positive Rate (Caucasian): {fpr_privileged}\")\n",
        "\n",
        "# Create a bar chart\n",
        "labels = ['African-American', 'Caucasian']\n",
        "fpr_values = [fpr_unprivileged, fpr_privileged]\n",
        "\n",
        "fig, ax = plt.subplots(figsize=(6, 4))\n",
        "ax.bar(labels, fpr_values, color=['skyblue', 'lightcoral'])\n",
        "\n",
        "# Add labels and title\n",
        "ax.set_ylabel('False Positive Rate')\n",
        "ax.set_title('Disparity in False Positive Rates')\n",
        "\n",
        "# Display the plot\n",
        "plt.show()"
      ],
      "execution_count": 16,
      "outputs": [
        {
          "output_type": "error",
          "ename": "TypeError",
          "evalue": "StructuredDataset.subset() takes 2 positional arguments but 3 were given",
          "traceback": [
            "\u001b[0;31m---------------------------------------------------------------------------\u001b[0m",
            "\u001b[0;31mTypeError\u001b[0m                                 Traceback (most recent call last)",
            "\u001b[0;32m/tmp/ipython-input-1178649564.py\u001b[0m in \u001b[0;36m<cell line: 0>\u001b[0;34m()\u001b[0m\n\u001b[1;32m      6\u001b[0m \u001b[0;31m# Privileged group\u001b[0m\u001b[0;34m\u001b[0m\u001b[0;34m\u001b[0m\u001b[0m\n\u001b[1;32m      7\u001b[0m \u001b[0mpriv_feature\u001b[0m\u001b[0;34m,\u001b[0m \u001b[0mpriv_value\u001b[0m \u001b[0;34m=\u001b[0m \u001b[0mlist\u001b[0m\u001b[0;34m(\u001b[0m\u001b[0mprivileged_groups\u001b[0m\u001b[0;34m[\u001b[0m\u001b[0;36m0\u001b[0m\u001b[0;34m]\u001b[0m\u001b[0;34m.\u001b[0m\u001b[0mitems\u001b[0m\u001b[0;34m(\u001b[0m\u001b[0;34m)\u001b[0m\u001b[0;34m)\u001b[0m\u001b[0;34m[\u001b[0m\u001b[0;36m0\u001b[0m\u001b[0;34m]\u001b[0m\u001b[0;34m\u001b[0m\u001b[0;34m\u001b[0m\u001b[0m\n\u001b[0;32m----> 8\u001b[0;31m \u001b[0mdataset_priv\u001b[0m \u001b[0;34m=\u001b[0m \u001b[0mdataset\u001b[0m\u001b[0;34m.\u001b[0m\u001b[0msubset\u001b[0m\u001b[0;34m(\u001b[0m\u001b[0mpriv_feature\u001b[0m\u001b[0;34m,\u001b[0m \u001b[0mpriv_value\u001b[0m\u001b[0;34m)\u001b[0m\u001b[0;34m\u001b[0m\u001b[0;34m\u001b[0m\u001b[0m\n\u001b[0m\u001b[1;32m      9\u001b[0m \u001b[0mdataset_classified_priv\u001b[0m \u001b[0;34m=\u001b[0m \u001b[0mdataset_classified\u001b[0m\u001b[0;34m.\u001b[0m\u001b[0msubset\u001b[0m\u001b[0;34m(\u001b[0m\u001b[0mpriv_feature\u001b[0m\u001b[0;34m,\u001b[0m \u001b[0mpriv_value\u001b[0m\u001b[0;34m)\u001b[0m\u001b[0;34m\u001b[0m\u001b[0;34m\u001b[0m\u001b[0m\n\u001b[1;32m     10\u001b[0m \u001b[0mmetric_priv\u001b[0m \u001b[0;34m=\u001b[0m \u001b[0mClassificationMetric\u001b[0m\u001b[0;34m(\u001b[0m\u001b[0mdataset_priv\u001b[0m\u001b[0;34m,\u001b[0m \u001b[0mdataset_classified_priv\u001b[0m\u001b[0;34m)\u001b[0m\u001b[0;34m\u001b[0m\u001b[0;34m\u001b[0m\u001b[0m\n",
            "\u001b[0;31mTypeError\u001b[0m: StructuredDataset.subset() takes 2 positional arguments but 3 were given"
          ]
        }
      ]
    },
    {
      "cell_type": "markdown",
      "metadata": {
        "id": "dec18165"
      },
      "source": [
        "**Reasoning**:\n",
        "The error indicates that the `subset` method is still being called with too many arguments. It seems my understanding of the `subset` method is incorrect. I will try a different approach by using boolean indexing on the underlying dataframe to filter the data for each group, and then create new `StandardDataset` and `ClassificationMetric` objects for each group.\n",
        "\n"
      ]
    },
    {
      "cell_type": "code",
      "metadata": {
        "colab": {
          "base_uri": "https://localhost:8080/",
          "height": 459
        },
        "id": "Y1lXhusEM0sT",
        "outputId": "9714b7e9-8372-4bd3-8053-7cdfa8ead498"
      },
      "source": [
        "import matplotlib.pyplot as plt\n",
        "import pandas as pd\n",
        "from aif360.datasets import StandardDataset\n",
        "from aif360.metrics import ClassificationMetric\n",
        "\n",
        "# Unprivileged group (African-American)\n",
        "df_unpriv = df_filtered[df_filtered['race'] == 'African-American']\n",
        "dataset_unpriv = StandardDataset(\n",
        "    df_unpriv,\n",
        "    label_name='two_year_recid',\n",
        "    favorable_classes=[0],\n",
        "    protected_attribute_names=['race'],\n",
        "    privileged_classes=[['Caucasian']],\n",
        "    categorical_features=['sex', 'c_charge_degree', 'c_charge_desc']\n",
        ")\n",
        "dataset_classified_unpriv = dataset_unpriv.copy()\n",
        "dataset_classified_unpriv.labels = (df_unpriv['decile_score'] > 4).astype(int).values.reshape(-1,1)\n",
        "metric_unpriv = ClassificationMetric(dataset_unpriv, dataset_classified_unpriv)\n",
        "fpr_unprivileged = metric_unpriv.false_positive_rate()\n",
        "\n",
        "# Privileged group (Caucasian)\n",
        "df_priv = df_filtered[df_filtered['race'] == 'Caucasian']\n",
        "dataset_priv = StandardDataset(\n",
        "    df_priv,\n",
        "    label_name='two_year_recid',\n",
        "    favorable_classes=[0],\n",
        "    protected_attribute_names=['race'],\n",
        "    privileged_classes=[['Caucasian']],\n",
        "    categorical_features=['sex', 'c_charge_degree', 'c_charge_desc']\n",
        ")\n",
        "dataset_classified_priv = dataset_priv.copy()\n",
        "dataset_classified_priv.labels = (df_priv['decile_score'] > 4).astype(int).values.reshape(-1,1)\n",
        "metric_priv = ClassificationMetric(dataset_priv, dataset_classified_priv)\n",
        "fpr_privileged = metric_priv.false_positive_rate()\n",
        "\n",
        "print(f\"False Positive Rate (African-American): {fpr_unprivileged}\")\n",
        "print(f\"False Positive Rate (Caucasian): {fpr_privileged}\")\n",
        "\n",
        "# Create a bar chart\n",
        "labels = ['African-American', 'Caucasian']\n",
        "fpr_values = [fpr_unprivileged, fpr_privileged]\n",
        "\n",
        "fig, ax = plt.subplots(figsize=(6, 4))\n",
        "ax.bar(labels, fpr_values, color=['skyblue', 'lightcoral'])\n",
        "\n",
        "# Add labels and title\n",
        "ax.set_ylabel('False Positive Rate')\n",
        "ax.set_title('Disparity in False Positive Rates')\n",
        "\n",
        "# Display the plot\n",
        "plt.show()"
      ],
      "execution_count": 17,
      "outputs": [
        {
          "output_type": "stream",
          "name": "stderr",
          "text": [
            "WARNING:root:[np.float64(1.0)] listed but not observed for feature race\n",
            "WARNING:root:[np.float64(0.0)] listed but not observed for feature race\n"
          ]
        },
        {
          "output_type": "stream",
          "name": "stdout",
          "text": [
            "False Positive Rate (African-American): 0.2795358649789029\n",
            "False Positive Rate (Caucasian): 0.4745057232049948\n"
          ]
        },
        {
          "output_type": "display_data",
          "data": {
            "text/plain": [
              "<Figure size 600x400 with 1 Axes>"
            ],
            "image/png": "[encoded data removed]"
          },
          "metadata": {}
        }
      ]
    },
    {
      "cell_type": "code",
      "metadata": {
        "colab": {
          "base_uri": "https://localhost:8080/",
          "height": 425
        },
        "id": "eee9a3b3",
        "outputId": "a4fbd08a-8c19-4c73-e6d1-b2c0a3cac309"
      },
      "source": [
        "import matplotlib.pyplot as plt\n",
        "\n",
        "# Calculate false negative rates\n",
        "fnr_unprivileged = metric_unpriv.false_negative_rate()\n",
        "fnr_privileged = metric_priv.false_negative_rate()\n",
        "\n",
        "print(f\"False Negative Rate (African-American): {fnr_unprivileged}\")\n",
        "print(f\"False Negative Rate (Caucasian): {fnr_privileged}\")\n",
        "\n",
        "# Create a bar chart\n",
        "labels = ['African-American', 'Caucasian']\n",
        "fnr_values = [fnr_unprivileged, fnr_privileged]\n",
        "\n",
        "fig, ax = plt.subplots(figsize=(6, 4))\n",
        "ax.bar(labels, fnr_values, color=['skyblue', 'lightcoral'])\n",
        "\n",
        "# Add labels and title\n",
        "ax.set_ylabel('False Negative Rate')\n",
        "ax.set_title('Disparity in False Negative Rates')\n",
        "\n",
        "# Display the plot\n",
        "plt.show()"
      ],
      "execution_count": 19,
      "outputs": [
        {
          "output_type": "stream",
          "name": "stdout",
          "text": [
            "False Negative Rate (African-American): 0.44854586129753915\n",
            "False Negative Rate (Caucasian): 0.23450134770889489\n"
          ]
        },
        {
          "output_type": "display_data",
          "data": {
            "text/plain": [
              "<Figure size 600x400 with 1 Axes>"
            ],
            "image/png": "[encoded data removed]"
          },
          "metadata": {}
        }
      ]
    },
    {
      "cell_type": "code",
      "metadata": {
        "colab": {
          "base_uri": "https://localhost:8080/",
          "height": 564
        },
        "id": "bd71fc22",
        "outputId": "17450402-f2d8-4745-b08d-b43232f4d89b"
      },
      "source": [
        "from sklearn.metrics import roc_curve, auc\n",
        "\n",
        "# Get the scores and labels for each group\n",
        "y_true_priv = dataset_priv.labels.ravel()\n",
        "y_pred_priv = dataset_classified_priv.scores.ravel()\n",
        "\n",
        "y_true_unpriv = dataset_unpriv.labels.ravel()\n",
        "y_pred_unpriv = dataset_classified_unpriv.scores.ravel()\n",
        "\n",
        "# Compute ROC curve and ROC area for each group\n",
        "fpr_priv, tpr_priv, _ = roc_curve(y_true_priv, y_pred_priv)\n",
        "roc_auc_priv = auc(fpr_priv, tpr_priv)\n",
        "\n",
        "fpr_unpriv, tpr_unpriv, _ = roc_curve(y_true_unpriv, y_pred_unpriv)\n",
        "roc_auc_unpriv = auc(fpr_unpriv, tpr_unpriv)\n",
        "\n",
        "# Plot ROC curves\n",
        "plt.figure(figsize=(8, 6))\n",
        "plt.plot(fpr_priv, tpr_priv, color='darkorange', lw=2, label=f'Caucasian (AUC = {roc_auc_priv:.2f})')\n",
        "plt.plot(fpr_unpriv, tpr_unpriv, color='cornflowerblue', lw=2, label=f'African-American (AUC = {roc_auc_unpriv:.2f})')\n",
        "plt.plot([0, 1], [0, 1], color='navy', lw=2, linestyle='--')\n",
        "plt.xlim([0.0, 1.0])\n",
        "plt.ylim([0.0, 1.05])\n",
        "plt.xlabel('False Positive Rate')\n",
        "plt.ylabel('True Positive Rate')\n",
        "plt.title('Receiver Operating Characteristic (ROC) Curve')\n",
        "plt.legend(loc=\"lower right\")\n",
        "plt.show()"
      ],
      "execution_count": 20,
      "outputs": [
        {
          "output_type": "display_data",
          "data": {
            "text/plain": [
              "<Figure size 800x600 with 1 Axes>"
            ],
            "image/png": "[encoded data removed]"
          },
          "metadata": {}
        }
      ]
    },
    {
      "cell_type": "markdown",
      "metadata": {
        "id": "7523bbe1"
      },
      "source": [
        "## Summary:\n",
        "\n",
        "### Data Analysis Key Findings\n",
        "\n",
        "* The COMPAS dataset was successfully loaded from a CSV file hosted online after an attempt to load from a local, empty SQLite database failed.\n",
        "* The data was filtered to include only African-American and Caucasian individuals, focusing the analysis on these two racial groups.\n",
        "* The data was successfully formatted into an `aif360.datasets.StandardDataset` object, defining 'race' as the protected attribute (Caucasian as privileged) and 'two\\_year\\_recid' as the target variable (0 as favorable).\n",
        "* The Disparate Impact metric was calculated as 1.0, which typically indicates no disparate impact, but this metric only considers the ratio of favorable outcomes.\n",
        "* The Equal Opportunity Difference and Average Absolute Odds Difference were both 0.0, suggesting similar true positive rates and overall accuracy across groups.\n",
        "* The Theil Index, measuring inequality in outcome distribution, was calculated as approximately 0.058, indicating some level of inequality in how risk scores are distributed.\n",
        "* A significant disparity was found in False Positive Rates: approximately 0.28 for African-Americans and approximately 0.47 for Caucasians. This means Caucasian individuals who did not recidivate were more likely to be incorrectly predicted as high-risk compared to African-Americans.\n",
        "* A bar chart visualization clearly illustrates the higher False Positive Rate for the Caucasian group.\n",
        "\n",
        "### Insights or Next Steps\n",
        "\n",
        "* While some fairness metrics suggest equity (Disparate Impact, Equal Opportunity Difference, Average Absolute Odds Difference), the significant disparity in False Positive Rates indicates that the *types* of errors made by the COMPAS tool differ between racial groups, with Caucasians more likely to be falsely labeled high-risk.\n",
        "* Future steps should focus on applying post-processing bias mitigation techniques designed to equalize false positive and false negative rates, such as Equalized Odds Postprocessing, and conducting further investigation into the model's features and their potential influence on this specific type of error disparity."
      ]
    }
  ]
}